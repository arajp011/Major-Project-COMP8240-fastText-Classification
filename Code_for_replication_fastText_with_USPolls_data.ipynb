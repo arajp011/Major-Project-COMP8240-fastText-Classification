{
  "nbformat": 4,
  "nbformat_minor": 0,
  "metadata": {
    "colab": {
      "name": "Untitled0.ipynb",
      "provenance": [],
      "collapsed_sections": []
    },
    "kernelspec": {
      "name": "python3",
      "display_name": "Python 3"
    }
  },
  "cells": [
    {
      "cell_type": "markdown",
      "metadata": {
        "id": "7dRImzQ2llC8"
      },
      "source": [
        "**FastText Classification**"
      ]
    },
    {
      "cell_type": "markdown",
      "metadata": {
        "id": "tbwVvmDLlGnq"
      },
      "source": [
        "The goal of text classification is to assign documents different categories. In our project categories are positive, negative and neutral. Nowadays, the dominant approach to build such classifiers is machine learning, that is learning classification rules from examples. In order to build such classifiers, we need labeled data, which we have obtained as an airline_sentiment dataset."
      ]
    },
    {
      "cell_type": "markdown",
      "metadata": {
        "id": "T25TKBRVl4J5"
      },
      "source": [
        "The first step is to install and build fastText."
      ]
    },
    {
      "cell_type": "code",
      "metadata": {
        "id": "r9DZ2eKcdHaB",
        "outputId": "37f9d071-d1db-406a-d4fd-47bc819f6fe9",
        "colab": {
          "base_uri": "https://localhost:8080/"
        }
      },
      "source": [
        "!wget https://github.com/facebookresearch/fastText/archive/0.2.0.zip\n",
        "!unzip 0.2.0.zip"
      ],
      "execution_count": 14,
      "outputs": [
        {
          "output_type": "stream",
          "text": [
            "--2020-11-05 12:49:39--  https://github.com/facebookresearch/fastText/archive/0.2.0.zip\n",
            "Resolving github.com (github.com)... 192.30.255.112\n",
            "Connecting to github.com (github.com)|192.30.255.112|:443... connected.\n",
            "HTTP request sent, awaiting response... 302 Found\n",
            "Location: https://codeload.github.com/facebookresearch/fastText/zip/0.2.0 [following]\n",
            "--2020-11-05 12:49:39--  https://codeload.github.com/facebookresearch/fastText/zip/0.2.0\n",
            "Resolving codeload.github.com (codeload.github.com)... 192.30.255.121\n",
            "Connecting to codeload.github.com (codeload.github.com)|192.30.255.121|:443... connected.\n",
            "HTTP request sent, awaiting response... 200 OK\n",
            "Length: 4304799 (4.1M) [application/zip]\n",
            "Saving to: ‘0.2.0.zip.3’\n",
            "\n",
            "0.2.0.zip.3         100%[===================>]   4.10M  --.-KB/s    in 0.06s   \n",
            "\n",
            "2020-11-05 12:49:39 (71.7 MB/s) - ‘0.2.0.zip.3’ saved [4304799/4304799]\n",
            "\n",
            "Archive:  0.2.0.zip\n",
            "7842495a4d64c7a3bb4339d45d6e64321d002ed8\n",
            "replace fastText-0.2.0/.circleci/cmake_test.sh? [y]es, [n]o, [A]ll, [N]one, [r]ename: "
          ],
          "name": "stdout"
        }
      ]
    },
    {
      "cell_type": "code",
      "metadata": {
        "id": "k8RsevSIdQis",
        "outputId": "ae99441f-6b9e-462c-cc47-0b879cf21c78",
        "colab": {
          "base_uri": "https://localhost:8080/"
        }
      },
      "source": [
        "pip install fastText-0.2.0/"
      ],
      "execution_count": 15,
      "outputs": [
        {
          "output_type": "stream",
          "text": [
            "Processing ./fastText-0.2.0\n",
            "Requirement already satisfied: pybind11>=2.2 in /usr/local/lib/python3.6/dist-packages (from fasttext==0.8.22) (2.6.0)\n",
            "Requirement already satisfied: setuptools>=0.7.0 in /usr/local/lib/python3.6/dist-packages (from fasttext==0.8.22) (50.3.2)\n",
            "Requirement already satisfied: numpy in /usr/local/lib/python3.6/dist-packages (from fasttext==0.8.22) (1.18.5)\n",
            "Building wheels for collected packages: fasttext\n",
            "  Building wheel for fasttext (setup.py) ... \u001b[?25l\u001b[?25hdone\n",
            "  Created wheel for fasttext: filename=fasttext-0.8.22-cp36-cp36m-linux_x86_64.whl size=2325117 sha256=ce16ba5c0799256cc2cb0b1be5a58ca83179eb0838aad91e47622a39c2701000\n",
            "  Stored in directory: /root/.cache/pip/wheels/11/5c/45/07e9483cff6a5fe6a59f48b47c7b1910978a79aed8606f8aa5\n",
            "Successfully built fasttext\n",
            "Installing collected packages: fasttext\n",
            "  Found existing installation: fasttext 0.8.22\n",
            "    Uninstalling fasttext-0.8.22:\n",
            "      Successfully uninstalled fasttext-0.8.22\n",
            "Successfully installed fasttext-0.8.22\n"
          ],
          "name": "stdout"
        }
      ]
    },
    {
      "cell_type": "markdown",
      "metadata": {
        "id": "UEfTVKF7aQwK"
      },
      "source": [
        "**Getting original code working on original data**"
      ]
    },
    {
      "cell_type": "code",
      "metadata": {
        "id": "m-0D3Q33aZoW",
        "outputId": "a71d4521-a242-4fd6-f25a-2c87ffd8abd6",
        "colab": {
          "base_uri": "https://localhost:8080/"
        }
      },
      "source": [
        "!wget https://dl.fbaipublicfiles.com/fasttext/data/cooking.stackexchange.tar.gz && tar xvzf cooking.stackexchange.tar.gz"
      ],
      "execution_count": 16,
      "outputs": [
        {
          "output_type": "stream",
          "text": [
            "--2020-11-05 12:50:52--  https://dl.fbaipublicfiles.com/fasttext/data/cooking.stackexchange.tar.gz\n",
            "Resolving dl.fbaipublicfiles.com (dl.fbaipublicfiles.com)... 104.22.75.142, 104.22.74.142, 172.67.9.4, ...\n",
            "Connecting to dl.fbaipublicfiles.com (dl.fbaipublicfiles.com)|104.22.75.142|:443... connected.\n",
            "HTTP request sent, awaiting response... 200 OK\n",
            "Length: 457609 (447K) [application/x-tar]\n",
            "Saving to: ‘cooking.stackexchange.tar.gz.1’\n",
            "\n",
            "\r          cooking.s   0%[                    ]       0  --.-KB/s               \rcooking.stackexchan 100%[===================>] 446.88K  --.-KB/s    in 0.04s   \n",
            "\n",
            "2020-11-05 12:50:53 (10.7 MB/s) - ‘cooking.stackexchange.tar.gz.1’ saved [457609/457609]\n",
            "\n",
            "cooking.stackexchange.id\n",
            "cooking.stackexchange.txt\n",
            "readme.txt\n"
          ],
          "name": "stdout"
        }
      ]
    },
    {
      "cell_type": "code",
      "metadata": {
        "id": "r_X72RNoa7In",
        "outputId": "49e41e78-9ef3-4b45-944f-bcba2d92f3dc",
        "colab": {
          "base_uri": "https://localhost:8080/"
        }
      },
      "source": [
        "!head cooking.stackexchange.txt"
      ],
      "execution_count": 17,
      "outputs": [
        {
          "output_type": "stream",
          "text": [
            "__label__sauce __label__cheese How much does potato starch affect a cheese sauce recipe?\n",
            "__label__food-safety __label__acidity Dangerous pathogens capable of growing in acidic environments\n",
            "__label__cast-iron __label__stove How do I cover up the white spots on my cast iron stove?\n",
            "__label__restaurant Michelin Three Star Restaurant; but if the chef is not there\n",
            "__label__knife-skills __label__dicing Without knife skills, how can I quickly and accurately dice vegetables?\n",
            "__label__storage-method __label__equipment __label__bread What's the purpose of a bread box?\n",
            "__label__baking __label__food-safety __label__substitutions __label__peanuts how to seperate peanut oil from roasted peanuts at home?\n",
            "__label__chocolate American equivalent for British chocolate terms\n",
            "__label__baking __label__oven __label__convection Fan bake vs bake\n",
            "__label__sauce __label__storage-lifetime __label__acidity __label__mayonnaise Regulation and balancing of readymade packed mayonnaise and other sauces\n"
          ],
          "name": "stdout"
        }
      ]
    },
    {
      "cell_type": "markdown",
      "metadata": {
        "id": "_UqOsTXAbGUA"
      },
      "source": [
        "Splitting the data"
      ]
    },
    {
      "cell_type": "code",
      "metadata": {
        "id": "PTWXAPO6bJ6Q"
      },
      "source": [
        "!head -n 12404 cooking.stackexchange.txt > cooking.train\n",
        "!tail -n 3000 cooking.stackexchange.txt > cooking.valid"
      ],
      "execution_count": 18,
      "outputs": []
    },
    {
      "cell_type": "markdown",
      "metadata": {
        "id": "uhVPYjOdbSY1"
      },
      "source": [
        "First Classifier on original data"
      ]
    },
    {
      "cell_type": "code",
      "metadata": {
        "id": "9jRQpgtwbW9L"
      },
      "source": [
        "import fastText\n",
        "modelo = fastText.train_supervised(input=\"cooking.train\")"
      ],
      "execution_count": 19,
      "outputs": []
    },
    {
      "cell_type": "code",
      "metadata": {
        "id": "TCdzDMwTdn_X",
        "outputId": "ac803638-82da-48cb-f1f2-3c6353b7e2b3",
        "colab": {
          "base_uri": "https://localhost:8080/"
        }
      },
      "source": [
        "modelo.test(\"cooking.valid\")"
      ],
      "execution_count": 20,
      "outputs": [
        {
          "output_type": "execute_result",
          "data": {
            "text/plain": [
              "(3000, 0.13533333333333333, 0.05852674066599395)"
            ]
          },
          "metadata": {
            "tags": []
          },
          "execution_count": 20
        }
      ]
    },
    {
      "cell_type": "markdown",
      "metadata": {
        "id": "LvPbVZK3dx0y"
      },
      "source": [
        "**Better Model**"
      ]
    },
    {
      "cell_type": "code",
      "metadata": {
        "id": "hHdiBWaTd2bH",
        "outputId": "f5bb0ce0-36ca-4ad4-a846-b34b48143715",
        "colab": {
          "base_uri": "https://localhost:8080/"
        }
      },
      "source": [
        "modelo1 = fastText.train_supervised(input=\"cooking.train\", lr=1.0, epoch=25)\n",
        "modelo1.test(\"cooking.valid\")"
      ],
      "execution_count": 21,
      "outputs": [
        {
          "output_type": "execute_result",
          "data": {
            "text/plain": [
              "(3000, 0.5573333333333333, 0.2410263802796598)"
            ]
          },
          "metadata": {
            "tags": []
          },
          "execution_count": 21
        }
      ]
    },
    {
      "cell_type": "markdown",
      "metadata": {
        "id": "xl_6DL7KeboW"
      },
      "source": [
        "**Bigrams**"
      ]
    },
    {
      "cell_type": "code",
      "metadata": {
        "id": "SIIsdxMeedFO",
        "outputId": "7820d959-f724-4c2f-c1c6-f9b83f2c3a00",
        "colab": {
          "base_uri": "https://localhost:8080/"
        }
      },
      "source": [
        "modelo2 = fastText.train_supervised(input=\"cooking.train\", lr=1.0, epoch=25, wordNgrams=2)\n",
        "modelo2.test(\"cooking.valid\")"
      ],
      "execution_count": 24,
      "outputs": [
        {
          "output_type": "execute_result",
          "data": {
            "text/plain": [
              "(3000, 0.564, 0.24390947095286147)"
            ]
          },
          "metadata": {
            "tags": []
          },
          "execution_count": 24
        }
      ]
    },
    {
      "cell_type": "markdown",
      "metadata": {
        "id": "v98vmoC2mxMs"
      },
      "source": [
        "**Getting and preparing the transformed original data**"
      ]
    },
    {
      "cell_type": "markdown",
      "metadata": {
        "id": "iLpESGz6m3mt"
      },
      "source": [
        "As mentioned in the introduction, we need labeled data to train our supervised classifier. Here since we are doing the sentiment analysis. we are replacing the original data of stack exchange questions with that of airline. The data has been prepared in another python file and made it readble by **fastText** . We will upload that file for training purpose."
      ]
    },
    {
      "cell_type": "code",
      "metadata": {
        "id": "1aighJbHndo1",
        "outputId": "12cb6825-2066-46c0-b509-8edd4d64fe7e",
        "colab": {
          "resources": {
            "http://localhost:8080/nbextensions/google.colab/files.js": {
              "data": "Ly8gQ29weXJpZ2h0IDIwMTcgR29vZ2xlIExMQwovLwovLyBMaWNlbnNlZCB1bmRlciB0aGUgQXBhY2hlIExpY2Vuc2UsIFZlcnNpb24gMi4wICh0aGUgIkxpY2Vuc2UiKTsKLy8geW91IG1heSBub3QgdXNlIHRoaXMgZmlsZSBleGNlcHQgaW4gY29tcGxpYW5jZSB3aXRoIHRoZSBMaWNlbnNlLgovLyBZb3UgbWF5IG9idGFpbiBhIGNvcHkgb2YgdGhlIExpY2Vuc2UgYXQKLy8KLy8gICAgICBodHRwOi8vd3d3LmFwYWNoZS5vcmcvbGljZW5zZXMvTElDRU5TRS0yLjAKLy8KLy8gVW5sZXNzIHJlcXVpcmVkIGJ5IGFwcGxpY2FibGUgbGF3IG9yIGFncmVlZCB0byBpbiB3cml0aW5nLCBzb2Z0d2FyZQovLyBkaXN0cmlidXRlZCB1bmRlciB0aGUgTGljZW5zZSBpcyBkaXN0cmlidXRlZCBvbiBhbiAiQVMgSVMiIEJBU0lTLAovLyBXSVRIT1VUIFdBUlJBTlRJRVMgT1IgQ09ORElUSU9OUyBPRiBBTlkgS0lORCwgZWl0aGVyIGV4cHJlc3Mgb3IgaW1wbGllZC4KLy8gU2VlIHRoZSBMaWNlbnNlIGZvciB0aGUgc3BlY2lmaWMgbGFuZ3VhZ2UgZ292ZXJuaW5nIHBlcm1pc3Npb25zIGFuZAovLyBsaW1pdGF0aW9ucyB1bmRlciB0aGUgTGljZW5zZS4KCi8qKgogKiBAZmlsZW92ZXJ2aWV3IEhlbHBlcnMgZm9yIGdvb2dsZS5jb2xhYiBQeXRob24gbW9kdWxlLgogKi8KKGZ1bmN0aW9uKHNjb3BlKSB7CmZ1bmN0aW9uIHNwYW4odGV4dCwgc3R5bGVBdHRyaWJ1dGVzID0ge30pIHsKICBjb25zdCBlbGVtZW50ID0gZG9jdW1lbnQuY3JlYXRlRWxlbWVudCgnc3BhbicpOwogIGVsZW1lbnQudGV4dENvbnRlbnQgPSB0ZXh0OwogIGZvciAoY29uc3Qga2V5IG9mIE9iamVjdC5rZXlzKHN0eWxlQXR0cmlidXRlcykpIHsKICAgIGVsZW1lbnQuc3R5bGVba2V5XSA9IHN0eWxlQXR0cmlidXRlc1trZXldOwogIH0KICByZXR1cm4gZWxlbWVudDsKfQoKLy8gTWF4IG51bWJlciBvZiBieXRlcyB3aGljaCB3aWxsIGJlIHVwbG9hZGVkIGF0IGEgdGltZS4KY29uc3QgTUFYX1BBWUxPQURfU0laRSA9IDEwMCAqIDEwMjQ7CgpmdW5jdGlvbiBfdXBsb2FkRmlsZXMoaW5wdXRJZCwgb3V0cHV0SWQpIHsKICBjb25zdCBzdGVwcyA9IHVwbG9hZEZpbGVzU3RlcChpbnB1dElkLCBvdXRwdXRJZCk7CiAgY29uc3Qgb3V0cHV0RWxlbWVudCA9IGRvY3VtZW50LmdldEVsZW1lbnRCeUlkKG91dHB1dElkKTsKICAvLyBDYWNoZSBzdGVwcyBvbiB0aGUgb3V0cHV0RWxlbWVudCB0byBtYWtlIGl0IGF2YWlsYWJsZSBmb3IgdGhlIG5leHQgY2FsbAogIC8vIHRvIHVwbG9hZEZpbGVzQ29udGludWUgZnJvbSBQeXRob24uCiAgb3V0cHV0RWxlbWVudC5zdGVwcyA9IHN0ZXBzOwoKICByZXR1cm4gX3VwbG9hZEZpbGVzQ29udGludWUob3V0cHV0SWQpOwp9CgovLyBUaGlzIGlzIHJvdWdobHkgYW4gYXN5bmMgZ2VuZXJhdG9yIChub3Qgc3VwcG9ydGVkIGluIHRoZSBicm93c2VyIHlldCksCi8vIHdoZXJlIHRoZXJlIGFyZSBtdWx0aXBsZSBhc3luY2hyb25vdXMgc3RlcHMgYW5kIHRoZSBQeXRob24gc2lkZSBpcyBnb2luZwovLyB0byBwb2xsIGZvciBjb21wbGV0aW9uIG9mIGVhY2ggc3RlcC4KLy8gVGhpcyB1c2VzIGEgUHJvbWlzZSB0byBibG9jayB0aGUgcHl0aG9uIHNpZGUgb24gY29tcGxldGlvbiBvZiBlYWNoIHN0ZXAsCi8vIHRoZW4gcGFzc2VzIHRoZSByZXN1bHQgb2YgdGhlIHByZXZpb3VzIHN0ZXAgYXMgdGhlIGlucHV0IHRvIHRoZSBuZXh0IHN0ZXAuCmZ1bmN0aW9uIF91cGxvYWRGaWxlc0NvbnRpbnVlKG91dHB1dElkKSB7CiAgY29uc3Qgb3V0cHV0RWxlbWVudCA9IGRvY3VtZW50LmdldEVsZW1lbnRCeUlkKG91dHB1dElkKTsKICBjb25zdCBzdGVwcyA9IG91dHB1dEVsZW1lbnQuc3RlcHM7CgogIGNvbnN0IG5leHQgPSBzdGVwcy5uZXh0KG91dHB1dEVsZW1lbnQubGFzdFByb21pc2VWYWx1ZSk7CiAgcmV0dXJuIFByb21pc2UucmVzb2x2ZShuZXh0LnZhbHVlLnByb21pc2UpLnRoZW4oKHZhbHVlKSA9PiB7CiAgICAvLyBDYWNoZSB0aGUgbGFzdCBwcm9taXNlIHZhbHVlIHRvIG1ha2UgaXQgYXZhaWxhYmxlIHRvIHRoZSBuZXh0CiAgICAvLyBzdGVwIG9mIHRoZSBnZW5lcmF0b3IuCiAgICBvdXRwdXRFbGVtZW50Lmxhc3RQcm9taXNlVmFsdWUgPSB2YWx1ZTsKICAgIHJldHVybiBuZXh0LnZhbHVlLnJlc3BvbnNlOwogIH0pOwp9CgovKioKICogR2VuZXJhdG9yIGZ1bmN0aW9uIHdoaWNoIGlzIGNhbGxlZCBiZXR3ZWVuIGVhY2ggYXN5bmMgc3RlcCBvZiB0aGUgdXBsb2FkCiAqIHByb2Nlc3MuCiAqIEBwYXJhbSB7c3RyaW5nfSBpbnB1dElkIEVsZW1lbnQgSUQgb2YgdGhlIGlucHV0IGZpbGUgcGlja2VyIGVsZW1lbnQuCiAqIEBwYXJhbSB7c3RyaW5nfSBvdXRwdXRJZCBFbGVtZW50IElEIG9mIHRoZSBvdXRwdXQgZGlzcGxheS4KICogQHJldHVybiB7IUl0ZXJhYmxlPCFPYmplY3Q+fSBJdGVyYWJsZSBvZiBuZXh0IHN0ZXBzLgogKi8KZnVuY3Rpb24qIHVwbG9hZEZpbGVzU3RlcChpbnB1dElkLCBvdXRwdXRJZCkgewogIGNvbnN0IGlucHV0RWxlbWVudCA9IGRvY3VtZW50LmdldEVsZW1lbnRCeUlkKGlucHV0SWQpOwogIGlucHV0RWxlbWVudC5kaXNhYmxlZCA9IGZhbHNlOwoKICBjb25zdCBvdXRwdXRFbGVtZW50ID0gZG9jdW1lbnQuZ2V0RWxlbWVudEJ5SWQob3V0cHV0SWQpOwogIG91dHB1dEVsZW1lbnQuaW5uZXJIVE1MID0gJyc7CgogIGNvbnN0IHBpY2tlZFByb21pc2UgPSBuZXcgUHJvbWlzZSgocmVzb2x2ZSkgPT4gewogICAgaW5wdXRFbGVtZW50LmFkZEV2ZW50TGlzdGVuZXIoJ2NoYW5nZScsIChlKSA9PiB7CiAgICAgIHJlc29sdmUoZS50YXJnZXQuZmlsZXMpOwogICAgfSk7CiAgfSk7CgogIGNvbnN0IGNhbmNlbCA9IGRvY3VtZW50LmNyZWF0ZUVsZW1lbnQoJ2J1dHRvbicpOwogIGlucHV0RWxlbWVudC5wYXJlbnRFbGVtZW50LmFwcGVuZENoaWxkKGNhbmNlbCk7CiAgY2FuY2VsLnRleHRDb250ZW50ID0gJ0NhbmNlbCB1cGxvYWQnOwogIGNvbnN0IGNhbmNlbFByb21pc2UgPSBuZXcgUHJvbWlzZSgocmVzb2x2ZSkgPT4gewogICAgY2FuY2VsLm9uY2xpY2sgPSAoKSA9PiB7CiAgICAgIHJlc29sdmUobnVsbCk7CiAgICB9OwogIH0pOwoKICAvLyBXYWl0IGZvciB0aGUgdXNlciB0byBwaWNrIHRoZSBmaWxlcy4KICBjb25zdCBmaWxlcyA9IHlpZWxkIHsKICAgIHByb21pc2U6IFByb21pc2UucmFjZShbcGlja2VkUHJvbWlzZSwgY2FuY2VsUHJvbWlzZV0pLAogICAgcmVzcG9uc2U6IHsKICAgICAgYWN0aW9uOiAnc3RhcnRpbmcnLAogICAgfQogIH07CgogIGNhbmNlbC5yZW1vdmUoKTsKCiAgLy8gRGlzYWJsZSB0aGUgaW5wdXQgZWxlbWVudCBzaW5jZSBmdXJ0aGVyIHBpY2tzIGFyZSBub3QgYWxsb3dlZC4KICBpbnB1dEVsZW1lbnQuZGlzYWJsZWQgPSB0cnVlOwoKICBpZiAoIWZpbGVzKSB7CiAgICByZXR1cm4gewogICAgICByZXNwb25zZTogewogICAgICAgIGFjdGlvbjogJ2NvbXBsZXRlJywKICAgICAgfQogICAgfTsKICB9CgogIGZvciAoY29uc3QgZmlsZSBvZiBmaWxlcykgewogICAgY29uc3QgbGkgPSBkb2N1bWVudC5jcmVhdGVFbGVtZW50KCdsaScpOwogICAgbGkuYXBwZW5kKHNwYW4oZmlsZS5uYW1lLCB7Zm9udFdlaWdodDogJ2JvbGQnfSkpOwogICAgbGkuYXBwZW5kKHNwYW4oCiAgICAgICAgYCgke2ZpbGUudHlwZSB8fCAnbi9hJ30pIC0gJHtmaWxlLnNpemV9IGJ5dGVzLCBgICsKICAgICAgICBgbGFzdCBtb2RpZmllZDogJHsKICAgICAgICAgICAgZmlsZS5sYXN0TW9kaWZpZWREYXRlID8gZmlsZS5sYXN0TW9kaWZpZWREYXRlLnRvTG9jYWxlRGF0ZVN0cmluZygpIDoKICAgICAgICAgICAgICAgICAgICAgICAgICAgICAgICAgICAgJ24vYSd9IC0gYCkpOwogICAgY29uc3QgcGVyY2VudCA9IHNwYW4oJzAlIGRvbmUnKTsKICAgIGxpLmFwcGVuZENoaWxkKHBlcmNlbnQpOwoKICAgIG91dHB1dEVsZW1lbnQuYXBwZW5kQ2hpbGQobGkpOwoKICAgIGNvbnN0IGZpbGVEYXRhUHJvbWlzZSA9IG5ldyBQcm9taXNlKChyZXNvbHZlKSA9PiB7CiAgICAgIGNvbnN0IHJlYWRlciA9IG5ldyBGaWxlUmVhZGVyKCk7CiAgICAgIHJlYWRlci5vbmxvYWQgPSAoZSkgPT4gewogICAgICAgIHJlc29sdmUoZS50YXJnZXQucmVzdWx0KTsKICAgICAgfTsKICAgICAgcmVhZGVyLnJlYWRBc0FycmF5QnVmZmVyKGZpbGUpOwogICAgfSk7CiAgICAvLyBXYWl0IGZvciB0aGUgZGF0YSB0byBiZSByZWFkeS4KICAgIGxldCBmaWxlRGF0YSA9IHlpZWxkIHsKICAgICAgcHJvbWlzZTogZmlsZURhdGFQcm9taXNlLAogICAgICByZXNwb25zZTogewogICAgICAgIGFjdGlvbjogJ2NvbnRpbnVlJywKICAgICAgfQogICAgfTsKCiAgICAvLyBVc2UgYSBjaHVua2VkIHNlbmRpbmcgdG8gYXZvaWQgbWVzc2FnZSBzaXplIGxpbWl0cy4gU2VlIGIvNjIxMTU2NjAuCiAgICBsZXQgcG9zaXRpb24gPSAwOwogICAgd2hpbGUgKHBvc2l0aW9uIDwgZmlsZURhdGEuYnl0ZUxlbmd0aCkgewogICAgICBjb25zdCBsZW5ndGggPSBNYXRoLm1pbihmaWxlRGF0YS5ieXRlTGVuZ3RoIC0gcG9zaXRpb24sIE1BWF9QQVlMT0FEX1NJWkUpOwogICAgICBjb25zdCBjaHVuayA9IG5ldyBVaW50OEFycmF5KGZpbGVEYXRhLCBwb3NpdGlvbiwgbGVuZ3RoKTsKICAgICAgcG9zaXRpb24gKz0gbGVuZ3RoOwoKICAgICAgY29uc3QgYmFzZTY0ID0gYnRvYShTdHJpbmcuZnJvbUNoYXJDb2RlLmFwcGx5KG51bGwsIGNodW5rKSk7CiAgICAgIHlpZWxkIHsKICAgICAgICByZXNwb25zZTogewogICAgICAgICAgYWN0aW9uOiAnYXBwZW5kJywKICAgICAgICAgIGZpbGU6IGZpbGUubmFtZSwKICAgICAgICAgIGRhdGE6IGJhc2U2NCwKICAgICAgICB9LAogICAgICB9OwogICAgICBwZXJjZW50LnRleHRDb250ZW50ID0KICAgICAgICAgIGAke01hdGgucm91bmQoKHBvc2l0aW9uIC8gZmlsZURhdGEuYnl0ZUxlbmd0aCkgKiAxMDApfSUgZG9uZWA7CiAgICB9CiAgfQoKICAvLyBBbGwgZG9uZS4KICB5aWVsZCB7CiAgICByZXNwb25zZTogewogICAgICBhY3Rpb246ICdjb21wbGV0ZScsCiAgICB9CiAgfTsKfQoKc2NvcGUuZ29vZ2xlID0gc2NvcGUuZ29vZ2xlIHx8IHt9OwpzY29wZS5nb29nbGUuY29sYWIgPSBzY29wZS5nb29nbGUuY29sYWIgfHwge307CnNjb3BlLmdvb2dsZS5jb2xhYi5fZmlsZXMgPSB7CiAgX3VwbG9hZEZpbGVzLAogIF91cGxvYWRGaWxlc0NvbnRpbnVlLAp9Owp9KShzZWxmKTsK",
              "ok": true,
              "headers": [
                [
                  "content-type",
                  "application/javascript"
                ]
              ],
              "status": 200,
              "status_text": ""
            }
          },
          "base_uri": "https://localhost:8080/",
          "height": 106
        }
      },
      "source": [
        "from google.colab import files\n",
        "upload = files.upload()"
      ],
      "execution_count": 25,
      "outputs": [
        {
          "output_type": "display_data",
          "data": {
            "text/html": [
              "\n",
              "     <input type=\"file\" id=\"files-8695c234-b755-438a-9997-6b9194be6791\" name=\"files[]\" multiple disabled\n",
              "        style=\"border:none\" />\n",
              "     <output id=\"result-8695c234-b755-438a-9997-6b9194be6791\">\n",
              "      Upload widget is only available when the cell has been executed in the\n",
              "      current browser session. Please rerun this cell to enable.\n",
              "      </output>\n",
              "      <script src=\"/nbextensions/google.colab/files.js\"></script> "
            ],
            "text/plain": [
              "<IPython.core.display.HTML object>"
            ]
          },
          "metadata": {
            "tags": []
          }
        },
        {
          "output_type": "stream",
          "text": [
            "Saving airline_training.txt to airline_training.txt\n",
            "Saving Polls1.txt to Polls1.txt\n"
          ],
          "name": "stdout"
        }
      ]
    },
    {
      "cell_type": "code",
      "metadata": {
        "id": "J4CGzXlqkwTM"
      },
      "source": [
        "!head -n 14440 airline_training.txt > airline.train\n",
        "!tail -n 200 airline_training.txt > airline.valid"
      ],
      "execution_count": 32,
      "outputs": []
    },
    {
      "cell_type": "markdown",
      "metadata": {
        "id": "FNzC0nwCobSv"
      },
      "source": [
        "**Our first classifier**"
      ]
    },
    {
      "cell_type": "code",
      "metadata": {
        "id": "JvWIrZWoohL4"
      },
      "source": [
        "import fastText\n",
        "model = fastText.train_supervised(input=\"airline_training.txt\")"
      ],
      "execution_count": 26,
      "outputs": []
    },
    {
      "cell_type": "markdown",
      "metadata": {
        "id": "hZKnMFrAo2y2"
      },
      "source": [
        "We can now use the model variable to access information on the trained model."
      ]
    },
    {
      "cell_type": "markdown",
      "metadata": {
        "id": "xhejpdNapoWI"
      },
      "source": [
        "Now, we can test our classifier, by testing it on the data created on US Polls and see what results we get."
      ]
    },
    {
      "cell_type": "code",
      "metadata": {
        "id": "gLJH-PQpqGKw",
        "outputId": "aaef2a84-d729-4091-9287-4ef85062af7c",
        "colab": {
          "base_uri": "https://localhost:8080/"
        }
      },
      "source": [
        " model.test(\"Polls1.txt\")"
      ],
      "execution_count": 34,
      "outputs": [
        {
          "output_type": "execute_result",
          "data": {
            "text/plain": [
              "(200, 0.57, 0.57)"
            ]
          },
          "metadata": {
            "tags": []
          },
          "execution_count": 34
        }
      ]
    },
    {
      "cell_type": "markdown",
      "metadata": {
        "id": "inn-7Jbwlmde"
      },
      "source": [
        "*Testing on original data subset*"
      ]
    },
    {
      "cell_type": "code",
      "metadata": {
        "id": "5Zo-qXYPlrhu",
        "outputId": "61ff584c-7fc2-425e-a46f-9dcc6f4bfea6",
        "colab": {
          "base_uri": "https://localhost:8080/"
        }
      },
      "source": [
        "model.test(\"airline.valid\")"
      ],
      "execution_count": 35,
      "outputs": [
        {
          "output_type": "execute_result",
          "data": {
            "text/plain": [
              "(200, 0.895, 0.895)"
            ]
          },
          "metadata": {
            "tags": []
          },
          "execution_count": 35
        }
      ]
    },
    {
      "cell_type": "markdown",
      "metadata": {
        "id": "J9bPj7InrxOn"
      },
      "source": [
        "**Making the model better**"
      ]
    },
    {
      "cell_type": "markdown",
      "metadata": {
        "id": "DyG96Cjmr59C"
      },
      "source": [
        "*more epochs and larger learning rate*"
      ]
    },
    {
      "cell_type": "markdown",
      "metadata": {
        "id": "-xUAFtKBr8lR"
      },
      "source": [
        "By default, fastText sees each training example only five times during training, we can increase the number of times each examples is seen (also known as the number of epochs), by using the -epoch option:"
      ]
    },
    {
      "cell_type": "code",
      "metadata": {
        "id": "rOyltWzksOFo",
        "outputId": "56b85d0c-3082-4245-97d8-6b4df01df97d",
        "colab": {
          "base_uri": "https://localhost:8080/"
        }
      },
      "source": [
        "model1 = fastText.train_supervised(input=\"airline_training.txt\", lr=1.0, epoch=25)\n",
        "model1.test(\"Polls1.txt\")"
      ],
      "execution_count": 28,
      "outputs": [
        {
          "output_type": "execute_result",
          "data": {
            "text/plain": [
              "(200, 0.555, 0.555)"
            ]
          },
          "metadata": {
            "tags": []
          },
          "execution_count": 28
        }
      ]
    },
    {
      "cell_type": "markdown",
      "metadata": {
        "id": "H-Xm0Qr-spA6"
      },
      "source": [
        "We see that there is a slight decrease in the precision and recall value of the reaults. Which makes us try something even better."
      ]
    },
    {
      "cell_type": "markdown",
      "metadata": {
        "id": "2gmPcqMqmGvL"
      },
      "source": [
        "*Testing on original data subset*"
      ]
    },
    {
      "cell_type": "code",
      "metadata": {
        "id": "dvRvGYTAmIVV",
        "outputId": "94ae122b-7c6a-4043-b542-86df6ca06416",
        "colab": {
          "base_uri": "https://localhost:8080/"
        }
      },
      "source": [
        "model1.test(\"airline.valid\")"
      ],
      "execution_count": 36,
      "outputs": [
        {
          "output_type": "execute_result",
          "data": {
            "text/plain": [
              "(200, 0.905, 0.905)"
            ]
          },
          "metadata": {
            "tags": []
          },
          "execution_count": 36
        }
      ]
    },
    {
      "cell_type": "markdown",
      "metadata": {
        "id": "8hjdaNQfl8JQ"
      },
      "source": [
        ""
      ]
    },
    {
      "cell_type": "markdown",
      "metadata": {
        "id": "nkXNaCWQu8hl"
      },
      "source": [
        "**word n-grams : Bigrams**"
      ]
    },
    {
      "cell_type": "markdown",
      "metadata": {
        "id": "LZ0fp4AEvEFB"
      },
      "source": [
        "A 'unigram' refers to a single undividing unit used as an input to a model. For instance a unigram can be a word or a letter depending in any model. In fastText, we work at the word level and thus unigrams are words.\n",
        "\n",
        "Similarly we denote by '**bigram**' the concatenation of 2 consecutive words. So we will see if our accuracy improves by this or not."
      ]
    },
    {
      "cell_type": "code",
      "metadata": {
        "id": "_EAgIM_rvgi9",
        "outputId": "8d836313-4ea8-4184-aa9b-aeabe546289f",
        "colab": {
          "base_uri": "https://localhost:8080/"
        }
      },
      "source": [
        "model2 = fastText.train_supervised(input=\"airline_training.txt\", lr=1.0, epoch=25, wordNgrams=2)\n",
        "model2.test(\"Polls1.txt\")"
      ],
      "execution_count": 29,
      "outputs": [
        {
          "output_type": "execute_result",
          "data": {
            "text/plain": [
              "(200, 0.59, 0.59)"
            ]
          },
          "metadata": {
            "tags": []
          },
          "execution_count": 29
        }
      ]
    },
    {
      "cell_type": "markdown",
      "metadata": {
        "id": "nYQ8dTYJmSXi"
      },
      "source": [
        "*Testing on original data subset*"
      ]
    },
    {
      "cell_type": "code",
      "metadata": {
        "id": "49wgBl_jmT_5",
        "outputId": "f6b3cc97-7ddf-40ac-b3cc-42d234248e81",
        "colab": {
          "base_uri": "https://localhost:8080/"
        }
      },
      "source": [
        "model2.test(\"airline.valid\")"
      ],
      "execution_count": 37,
      "outputs": [
        {
          "output_type": "execute_result",
          "data": {
            "text/plain": [
              "(200, 1.0, 1.0)"
            ]
          },
          "metadata": {
            "tags": []
          },
          "execution_count": 37
        }
      ]
    },
    {
      "cell_type": "markdown",
      "metadata": {
        "id": "bq9g1rGFmc8h"
      },
      "source": [
        "we see that in both the cases with a few steps, we are able to significantly improve our precision score. In our original dataset precision score is increased moving up from a simple classifier to applying bigrams. Same is the case with New dataset. Although there is some difference in the precision values, but it is possibly due to sample size or human annotations. Hence, we can say that we have successfully replicated the results."
      ]
    },
    {
      "cell_type": "code",
      "metadata": {
        "id": "dLZSSgTVrPxE",
        "outputId": "6cdeb07d-cb51-4f63-a961-46196ca0ead7",
        "colab": {
          "base_uri": "https://localhost:8080/",
          "height": 142
        }
      },
      "source": [
        "import pandas as pd\n",
        "data = {'Model': ['First Classifier','Classifier with more epchos','Bigrams',],\n",
        "        'Original Data': [0.895,0.905,1.0],\n",
        "        'New Data':[0.57,0.555,0.59]\n",
        "        }\n",
        "df = pd.DataFrame(data, columns = ['Model', 'Original Data','New Data'])\n",
        "df"
      ],
      "execution_count": 40,
      "outputs": [
        {
          "output_type": "execute_result",
          "data": {
            "text/html": [
              "<div>\n",
              "<style scoped>\n",
              "    .dataframe tbody tr th:only-of-type {\n",
              "        vertical-align: middle;\n",
              "    }\n",
              "\n",
              "    .dataframe tbody tr th {\n",
              "        vertical-align: top;\n",
              "    }\n",
              "\n",
              "    .dataframe thead th {\n",
              "        text-align: right;\n",
              "    }\n",
              "</style>\n",
              "<table border=\"1\" class=\"dataframe\">\n",
              "  <thead>\n",
              "    <tr style=\"text-align: right;\">\n",
              "      <th></th>\n",
              "      <th>Model</th>\n",
              "      <th>Original Data</th>\n",
              "      <th>New Data</th>\n",
              "    </tr>\n",
              "  </thead>\n",
              "  <tbody>\n",
              "    <tr>\n",
              "      <th>0</th>\n",
              "      <td>First Classifier</td>\n",
              "      <td>0.895</td>\n",
              "      <td>0.570</td>\n",
              "    </tr>\n",
              "    <tr>\n",
              "      <th>1</th>\n",
              "      <td>Classifier with more epchos</td>\n",
              "      <td>0.905</td>\n",
              "      <td>0.555</td>\n",
              "    </tr>\n",
              "    <tr>\n",
              "      <th>2</th>\n",
              "      <td>Bigrams</td>\n",
              "      <td>1.000</td>\n",
              "      <td>0.590</td>\n",
              "    </tr>\n",
              "  </tbody>\n",
              "</table>\n",
              "</div>"
            ],
            "text/plain": [
              "                         Model  Original Data  New Data\n",
              "0             First Classifier          0.895     0.570\n",
              "1  Classifier with more epchos          0.905     0.555\n",
              "2                      Bigrams          1.000     0.590"
            ]
          },
          "metadata": {
            "tags": []
          },
          "execution_count": 40
        }
      ]
    },
    {
      "cell_type": "code",
      "metadata": {
        "id": "-VZJc7FvuGUw",
        "outputId": "d5eb0f3f-42fe-4745-9151-6ca035e62531",
        "colab": {
          "base_uri": "https://localhost:8080/",
          "height": 320
        }
      },
      "source": [
        "import matplotlib.pyplot as plt\n",
        "pos = list(range(len(df['Original Data'])))\n",
        "width = 0.25\n",
        "fig, ax = plt.subplots(figsize=(10,5))\n",
        "plt.bar(pos, df['Original Data'], width, alpha=0.5, color='black')\n",
        "plt.bar([p + width for p in pos], df['New Data'], width, alpha=0.5, color='Blue')\n",
        "ax.set_ylabel('Precision value')\n",
        "ax.set_xticks([p + 1.5 * width for p in pos])\n",
        "ax.set_xticklabels(df['Model'])\n",
        "plt.xlim(min(pos)-width, max(pos)+width*4)\n",
        "plt.ylim([0, max(df['Original Data'] + df['New Data'])])\n",
        "plt.legend(['Original Data', 'New Data'], loc='upper left')\n",
        "plt.grid()\n",
        "plt.show()"
      ],
      "execution_count": 59,
      "outputs": [
        {
          "output_type": "display_data",
          "data": {
            "image/png": "[encoded data removed]",
            "text/plain": [
              "<Figure size 720x360 with 1 Axes>"
            ]
          },
          "metadata": {
            "tags": [],
            "needs_background": "light"
          }
        }
      ]
    }
  ]
}