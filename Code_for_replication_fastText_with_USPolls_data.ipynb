{
  "nbformat": 4,
  "nbformat_minor": 0,
  "metadata": {
    "colab": {
      "name": "Untitled0.ipynb",
      "provenance": [],
      "collapsed_sections": []
    },
    "kernelspec": {
      "name": "python3",
      "display_name": "Python 3"
    }
  },
  "cells": [
    {
      "cell_type": "markdown",
      "metadata": {
        "id": "7dRImzQ2llC8"
      },
      "source": [
        "**FastText Classification**"
      ]
    },
    {
      "cell_type": "markdown",
      "metadata": {
        "id": "tbwVvmDLlGnq"
      },
      "source": [
        "The goal of text classification is to assign documents different categories. In our project categories are positive, negative and neutral. Nowadays, the dominant approach to build such classifiers is machine learning, that is learning classification rules from examples. In order to build such classifiers, we need labeled data, which we have obtained as an airline_sentiment dataset."
      ]
    },
    {
      "cell_type": "markdown",
      "metadata": {
        "id": "T25TKBRVl4J5"
      },
      "source": [
        "The first step is to install and build fastText."
      ]
    },
    {
      "cell_type": "code",
      "metadata": {
        "id": "r9DZ2eKcdHaB",
        "outputId": "dc780491-71a8-43d5-fa20-3e498b1ebd30",
        "colab": {
          "base_uri": "https://localhost:8080/"
        }
      },
      "source": [
        "!wget https://github.com/facebookresearch/fastText/archive/0.2.0.zip\n",
        "!unzip 0.2.0.zip"
      ],
      "execution_count": 1,
      "outputs": [
        {
          "output_type": "stream",
          "text": [
            "--2020-11-06 02:24:50--  https://github.com/facebookresearch/fastText/archive/0.2.0.zip\n",
            "Resolving github.com (github.com)... 192.30.255.112\n",
            "Connecting to github.com (github.com)|192.30.255.112|:443... connected.\n",
            "HTTP request sent, awaiting response... 302 Found\n",
            "Location: https://codeload.github.com/facebookresearch/fastText/zip/0.2.0 [following]\n",
            "--2020-11-06 02:24:51--  https://codeload.github.com/facebookresearch/fastText/zip/0.2.0\n",
            "Resolving codeload.github.com (codeload.github.com)... 192.30.255.121\n",
            "Connecting to codeload.github.com (codeload.github.com)|192.30.255.121|:443... connected.\n",
            "HTTP request sent, awaiting response... 200 OK\n",
            "Length: unspecified [application/zip]\n",
            "Saving to: ‘0.2.0.zip’\n",
            "\n",
            "0.2.0.zip               [  <=>               ]   4.10M  16.0MB/s    in 0.3s    \n",
            "\n",
            "2020-11-06 02:24:51 (16.0 MB/s) - ‘0.2.0.zip’ saved [4304799]\n",
            "\n",
            "Archive:  0.2.0.zip\n",
            "7842495a4d64c7a3bb4339d45d6e64321d002ed8\n",
            "   creating: fastText-0.2.0/\n",
            "   creating: fastText-0.2.0/.circleci/\n",
            "  inflating: fastText-0.2.0/.circleci/cmake_test.sh  \n",
            "  inflating: fastText-0.2.0/.circleci/config.yml  \n",
            "  inflating: fastText-0.2.0/.circleci/gcc_test.sh  \n",
            "  inflating: fastText-0.2.0/.circleci/pip_test.sh  \n",
            "  inflating: fastText-0.2.0/.circleci/pull_data.sh  \n",
            "  inflating: fastText-0.2.0/.circleci/python_test.sh  \n",
            "  inflating: fastText-0.2.0/.circleci/run_locally.sh  \n",
            "  inflating: fastText-0.2.0/.circleci/setup_circleimg.sh  \n",
            "  inflating: fastText-0.2.0/.circleci/setup_debian.sh  \n",
            "  inflating: fastText-0.2.0/.gitignore  \n",
            "  inflating: fastText-0.2.0/CMakeLists.txt  \n",
            "  inflating: fastText-0.2.0/CONTRIBUTING.md  \n",
            "  inflating: fastText-0.2.0/LICENSE  \n",
            "  inflating: fastText-0.2.0/MANIFEST.in  \n",
            "  inflating: fastText-0.2.0/Makefile  \n",
            "  inflating: fastText-0.2.0/README.md  \n",
            "   creating: fastText-0.2.0/alignment/\n",
            "  inflating: fastText-0.2.0/alignment/README.md  \n",
            "  inflating: fastText-0.2.0/alignment/align.py  \n",
            "  inflating: fastText-0.2.0/alignment/eval.py  \n",
            "  inflating: fastText-0.2.0/alignment/example.sh  \n",
            "  inflating: fastText-0.2.0/alignment/utils.py  \n",
            "  inflating: fastText-0.2.0/classification-example.sh  \n",
            "  inflating: fastText-0.2.0/classification-results.sh  \n",
            "   creating: fastText-0.2.0/docs/\n",
            "  inflating: fastText-0.2.0/docs/aligned-vectors.md  \n",
            "  inflating: fastText-0.2.0/docs/api.md  \n",
            "  inflating: fastText-0.2.0/docs/cheatsheet.md  \n",
            "  inflating: fastText-0.2.0/docs/crawl-vectors.md  \n",
            "  inflating: fastText-0.2.0/docs/dataset.md  \n",
            "  inflating: fastText-0.2.0/docs/english-vectors.md  \n",
            "  inflating: fastText-0.2.0/docs/faqs.md  \n",
            "  inflating: fastText-0.2.0/docs/language-identification.md  \n",
            "  inflating: fastText-0.2.0/docs/options.md  \n",
            "  inflating: fastText-0.2.0/docs/pretrained-vectors.md  \n",
            "  inflating: fastText-0.2.0/docs/references.md  \n",
            "  inflating: fastText-0.2.0/docs/supervised-models.md  \n",
            "  inflating: fastText-0.2.0/docs/supervised-tutorial.md  \n",
            "  inflating: fastText-0.2.0/docs/support.md  \n",
            "  inflating: fastText-0.2.0/docs/unsupervised-tutorials.md  \n",
            "  inflating: fastText-0.2.0/eval.py  \n",
            "  inflating: fastText-0.2.0/get-wikimedia.sh  \n",
            "  inflating: fastText-0.2.0/pretrained-vectors.md  \n",
            "   creating: fastText-0.2.0/python/\n",
            "  inflating: fastText-0.2.0/python/README.md  \n",
            "  inflating: fastText-0.2.0/python/README.rst  \n",
            "   creating: fastText-0.2.0/python/benchmarks/\n",
            "  inflating: fastText-0.2.0/python/benchmarks/README.rst  \n",
            "  inflating: fastText-0.2.0/python/benchmarks/get_word_vector.py  \n",
            "   creating: fastText-0.2.0/python/doc/\n",
            "   creating: fastText-0.2.0/python/doc/examples/\n",
            "  inflating: fastText-0.2.0/python/doc/examples/FastTextEmbeddingBag.py  \n",
            "  inflating: fastText-0.2.0/python/doc/examples/bin_to_vec.py  \n",
            "  inflating: fastText-0.2.0/python/doc/examples/compute_accuracy.py  \n",
            "  inflating: fastText-0.2.0/python/doc/examples/get_vocab.py  \n",
            "  inflating: fastText-0.2.0/python/doc/examples/train_supervised.py  \n",
            "  inflating: fastText-0.2.0/python/doc/examples/train_unsupervised.py  \n",
            "   creating: fastText-0.2.0/python/fastText/\n",
            "  inflating: fastText-0.2.0/python/fastText/FastText.py  \n",
            "  inflating: fastText-0.2.0/python/fastText/__init__.py  \n",
            "   creating: fastText-0.2.0/python/fastText/pybind/\n",
            "  inflating: fastText-0.2.0/python/fastText/pybind/fasttext_pybind.cc  \n",
            "   creating: fastText-0.2.0/python/fastText/tests/\n",
            "  inflating: fastText-0.2.0/python/fastText/tests/__init__.py  \n",
            "  inflating: fastText-0.2.0/python/fastText/tests/test_configurations.py  \n",
            "  inflating: fastText-0.2.0/python/fastText/tests/test_script.py  \n",
            "   creating: fastText-0.2.0/python/fastText/util/\n",
            "  inflating: fastText-0.2.0/python/fastText/util/__init__.py  \n",
            "  inflating: fastText-0.2.0/python/fastText/util/util.py  \n",
            "  inflating: fastText-0.2.0/quantization-example.sh  \n",
            "  inflating: fastText-0.2.0/runtests.py  \n",
            "   creating: fastText-0.2.0/scripts/\n",
            "   creating: fastText-0.2.0/scripts/kbcompletion/\n",
            "  inflating: fastText-0.2.0/scripts/kbcompletion/README.md  \n",
            "  inflating: fastText-0.2.0/scripts/kbcompletion/data.sh  \n",
            "  inflating: fastText-0.2.0/scripts/kbcompletion/eval.cpp  \n",
            "  inflating: fastText-0.2.0/scripts/kbcompletion/fb15k.sh  \n",
            "  inflating: fastText-0.2.0/scripts/kbcompletion/fb15k237.sh  \n",
            "  inflating: fastText-0.2.0/scripts/kbcompletion/svo.sh  \n",
            "  inflating: fastText-0.2.0/scripts/kbcompletion/wn18.sh  \n",
            "   creating: fastText-0.2.0/scripts/quantization/\n",
            "  inflating: fastText-0.2.0/scripts/quantization/quantization-results.sh  \n",
            " extracting: fastText-0.2.0/setup.cfg  \n",
            "  inflating: fastText-0.2.0/setup.py  \n",
            "   creating: fastText-0.2.0/src/\n",
            "  inflating: fastText-0.2.0/src/args.cc  \n",
            "  inflating: fastText-0.2.0/src/args.h  \n",
            "  inflating: fastText-0.2.0/src/dictionary.cc  \n",
            "  inflating: fastText-0.2.0/src/dictionary.h  \n",
            "  inflating: fastText-0.2.0/src/fasttext.cc  \n",
            "  inflating: fastText-0.2.0/src/fasttext.h  \n",
            "  inflating: fastText-0.2.0/src/main.cc  \n",
            "  inflating: fastText-0.2.0/src/matrix.cc  \n",
            "  inflating: fastText-0.2.0/src/matrix.h  \n",
            "  inflating: fastText-0.2.0/src/meter.cc  \n",
            "  inflating: fastText-0.2.0/src/meter.h  \n",
            "  inflating: fastText-0.2.0/src/model.cc  \n",
            "  inflating: fastText-0.2.0/src/model.h  \n",
            "  inflating: fastText-0.2.0/src/productquantizer.cc  \n",
            "  inflating: fastText-0.2.0/src/productquantizer.h  \n",
            "  inflating: fastText-0.2.0/src/qmatrix.cc  \n",
            "  inflating: fastText-0.2.0/src/qmatrix.h  \n",
            "  inflating: fastText-0.2.0/src/real.h  \n",
            "  inflating: fastText-0.2.0/src/utils.cc  \n",
            "  inflating: fastText-0.2.0/src/utils.h  \n",
            "  inflating: fastText-0.2.0/src/vector.cc  \n",
            "  inflating: fastText-0.2.0/src/vector.h  \n",
            "   creating: fastText-0.2.0/tests/\n",
            "  inflating: fastText-0.2.0/tests/fetch_test_data.sh  \n",
            "   creating: fastText-0.2.0/website/\n",
            "  inflating: fastText-0.2.0/website/README.md  \n",
            "   creating: fastText-0.2.0/website/blog/\n",
            "  inflating: fastText-0.2.0/website/blog/2016-08-18-blog-post.md  \n",
            "  inflating: fastText-0.2.0/website/blog/2017-05-02-blog-post.md  \n",
            "  inflating: fastText-0.2.0/website/blog/2017-10-02-blog-post.md  \n",
            "   creating: fastText-0.2.0/website/core/\n",
            "  inflating: fastText-0.2.0/website/core/Footer.js  \n",
            "  inflating: fastText-0.2.0/website/package.json  \n",
            "   creating: fastText-0.2.0/website/pages/\n",
            "   creating: fastText-0.2.0/website/pages/en/\n",
            "  inflating: fastText-0.2.0/website/pages/en/index.js  \n",
            "  inflating: fastText-0.2.0/website/sidebars.json  \n",
            "  inflating: fastText-0.2.0/website/siteConfig.js  \n",
            "   creating: fastText-0.2.0/website/static/\n",
            "   creating: fastText-0.2.0/website/static/docs/\n",
            "   creating: fastText-0.2.0/website/static/docs/en/\n",
            "   creating: fastText-0.2.0/website/static/docs/en/html/\n",
            " extracting: fastText-0.2.0/website/static/docs/en/html/.classfasttext_1_1QMatrix-members.html.i4eKqy  \n",
            "  inflating: fastText-0.2.0/website/static/docs/en/html/annotated.html  \n",
            "  inflating: fastText-0.2.0/website/static/docs/en/html/annotated_dup.js  \n",
            "  inflating: fastText-0.2.0/website/static/docs/en/html/args_8cc.html  \n",
            "  inflating: fastText-0.2.0/website/static/docs/en/html/args_8h.html  \n",
            "  inflating: fastText-0.2.0/website/static/docs/en/html/args_8h.js  \n",
            "  inflating: fastText-0.2.0/website/static/docs/en/html/args_8h_source.html  \n",
            " extracting: fastText-0.2.0/website/static/docs/en/html/bc_s.png  \n",
            "  inflating: fastText-0.2.0/website/static/docs/en/html/bdwn.png  \n",
            "  inflating: fastText-0.2.0/website/static/docs/en/html/classes.html  \n",
            "  inflating: fastText-0.2.0/website/static/docs/en/html/classfasttext_1_1Args-members.html  \n",
            "  inflating: fastText-0.2.0/website/static/docs/en/html/classfasttext_1_1Args.html  \n",
            "  inflating: fastText-0.2.0/website/static/docs/en/html/classfasttext_1_1Args.js  \n",
            "  inflating: fastText-0.2.0/website/static/docs/en/html/classfasttext_1_1Dictionary-members.html  \n",
            "  inflating: fastText-0.2.0/website/static/docs/en/html/classfasttext_1_1Dictionary.html  \n",
            "  inflating: fastText-0.2.0/website/static/docs/en/html/classfasttext_1_1Dictionary.js  \n",
            "  inflating: fastText-0.2.0/website/static/docs/en/html/classfasttext_1_1FastText-members.html  \n",
            "  inflating: fastText-0.2.0/website/static/docs/en/html/classfasttext_1_1FastText.html  \n",
            "  inflating: fastText-0.2.0/website/static/docs/en/html/classfasttext_1_1FastText.js  \n",
            "  inflating: fastText-0.2.0/website/static/docs/en/html/classfasttext_1_1Matrix-members.html  \n",
            "  inflating: fastText-0.2.0/website/static/docs/en/html/classfasttext_1_1Matrix.html  \n",
            "  inflating: fastText-0.2.0/website/static/docs/en/html/classfasttext_1_1Matrix.js  \n",
            "  inflating: fastText-0.2.0/website/static/docs/en/html/classfasttext_1_1Model-members.html  \n",
            "  inflating: fastText-0.2.0/website/static/docs/en/html/classfasttext_1_1Model.html  \n",
            "  inflating: fastText-0.2.0/website/static/docs/en/html/classfasttext_1_1Model.js  \n",
            "  inflating: fastText-0.2.0/website/static/docs/en/html/classfasttext_1_1ProductQuantizer-members.html  \n",
            "  inflating: fastText-0.2.0/website/static/docs/en/html/classfasttext_1_1ProductQuantizer.html  \n",
            "  inflating: fastText-0.2.0/website/static/docs/en/html/classfasttext_1_1ProductQuantizer.js  \n",
            "  inflating: fastText-0.2.0/website/static/docs/en/html/classfasttext_1_1QMatrix-members.html  \n",
            "  inflating: fastText-0.2.0/website/static/docs/en/html/classfasttext_1_1QMatrix.html  \n",
            "  inflating: fastText-0.2.0/website/static/docs/en/html/classfasttext_1_1QMatrix.js  \n",
            "  inflating: fastText-0.2.0/website/static/docs/en/html/classfasttext_1_1Vector-members.html  \n",
            "  inflating: fastText-0.2.0/website/static/docs/en/html/classfasttext_1_1Vector.html  \n",
            "  inflating: fastText-0.2.0/website/static/docs/en/html/classfasttext_1_1Vector.js  \n",
            "  inflating: fastText-0.2.0/website/static/docs/en/html/closed.png  \n",
            "  inflating: fastText-0.2.0/website/static/docs/en/html/dictionary_8cc.html  \n",
            "  inflating: fastText-0.2.0/website/static/docs/en/html/dictionary_8h.html  \n",
            "  inflating: fastText-0.2.0/website/static/docs/en/html/dictionary_8h.js  \n",
            "  inflating: fastText-0.2.0/website/static/docs/en/html/dictionary_8h_source.html  \n",
            "  inflating: fastText-0.2.0/website/static/docs/en/html/dir_68267d1309a1af8e8297ef4c3efbcdba.html  \n",
            "  inflating: fastText-0.2.0/website/static/docs/en/html/dir_68267d1309a1af8e8297ef4c3efbcdba.js  \n",
            " extracting: fastText-0.2.0/website/static/docs/en/html/doc.png  \n",
            "  inflating: fastText-0.2.0/website/static/docs/en/html/doxygen.css  \n",
            " extracting: fastText-0.2.0/website/static/docs/en/html/doxygen.png  \n",
            "  inflating: fastText-0.2.0/website/static/docs/en/html/dynsections.js  \n",
            "  inflating: fastText-0.2.0/website/static/docs/en/html/fasttext_8cc.html  \n",
            "  inflating: fastText-0.2.0/website/static/docs/en/html/fasttext_8h.html  \n",
            "  inflating: fastText-0.2.0/website/static/docs/en/html/fasttext_8h.js  \n",
            "  inflating: fastText-0.2.0/website/static/docs/en/html/fasttext_8h_source.html  \n",
            "  inflating: fastText-0.2.0/website/static/docs/en/html/favicon.png  \n",
            "  inflating: fastText-0.2.0/website/static/docs/en/html/files.html  \n",
            "  inflating: fastText-0.2.0/website/static/docs/en/html/files.js  \n",
            " extracting: fastText-0.2.0/website/static/docs/en/html/folderclosed.png  \n",
            " extracting: fastText-0.2.0/website/static/docs/en/html/folderopen.png  \n",
            "  inflating: fastText-0.2.0/website/static/docs/en/html/functions.html  \n",
            "  inflating: fastText-0.2.0/website/static/docs/en/html/functions_0x7e.html  \n",
            "  inflating: fastText-0.2.0/website/static/docs/en/html/functions_b.html  \n",
            "  inflating: fastText-0.2.0/website/static/docs/en/html/functions_c.html  \n",
            "  inflating: fastText-0.2.0/website/static/docs/en/html/functions_d.html  \n",
            "  inflating: fastText-0.2.0/website/static/docs/en/html/functions_dup.js  \n",
            "  inflating: fastText-0.2.0/website/static/docs/en/html/functions_e.html  \n",
            "  inflating: fastText-0.2.0/website/static/docs/en/html/functions_f.html  \n",
            "  inflating: fastText-0.2.0/website/static/docs/en/html/functions_func.html  \n",
            "  inflating: fastText-0.2.0/website/static/docs/en/html/functions_g.html  \n",
            "  inflating: fastText-0.2.0/website/static/docs/en/html/functions_h.html  \n",
            "  inflating: fastText-0.2.0/website/static/docs/en/html/functions_i.html  \n",
            "  inflating: fastText-0.2.0/website/static/docs/en/html/functions_k.html  \n",
            "  inflating: fastText-0.2.0/website/static/docs/en/html/functions_l.html  \n",
            "  inflating: fastText-0.2.0/website/static/docs/en/html/functions_m.html  \n",
            "  inflating: fastText-0.2.0/website/static/docs/en/html/functions_n.html  \n",
            "  inflating: fastText-0.2.0/website/static/docs/en/html/functions_o.html  \n",
            "  inflating: fastText-0.2.0/website/static/docs/en/html/functions_p.html  \n",
            "  inflating: fastText-0.2.0/website/static/docs/en/html/functions_q.html  \n",
            "  inflating: fastText-0.2.0/website/static/docs/en/html/functions_r.html  \n",
            "  inflating: fastText-0.2.0/website/static/docs/en/html/functions_s.html  \n",
            "  inflating: fastText-0.2.0/website/static/docs/en/html/functions_t.html  \n",
            "  inflating: fastText-0.2.0/website/static/docs/en/html/functions_u.html  \n",
            "  inflating: fastText-0.2.0/website/static/docs/en/html/functions_v.html  \n",
            "  inflating: fastText-0.2.0/website/static/docs/en/html/functions_vars.html  \n",
            "  inflating: fastText-0.2.0/website/static/docs/en/html/functions_w.html  \n",
            "  inflating: fastText-0.2.0/website/static/docs/en/html/functions_z.html  \n",
            "  inflating: fastText-0.2.0/website/static/docs/en/html/globals.html  \n",
            "  inflating: fastText-0.2.0/website/static/docs/en/html/globals_defs.html  \n",
            "  inflating: fastText-0.2.0/website/static/docs/en/html/globals_func.html  \n",
            "  inflating: fastText-0.2.0/website/static/docs/en/html/index.html  \n",
            "  inflating: fastText-0.2.0/website/static/docs/en/html/jquery.js  \n",
            "  inflating: fastText-0.2.0/website/static/docs/en/html/main_8cc.html  \n",
            "  inflating: fastText-0.2.0/website/static/docs/en/html/main_8cc.js  \n",
            "  inflating: fastText-0.2.0/website/static/docs/en/html/matrix_8cc.html  \n",
            "  inflating: fastText-0.2.0/website/static/docs/en/html/matrix_8h.html  \n",
            "  inflating: fastText-0.2.0/website/static/docs/en/html/matrix_8h_source.html  \n",
            "  inflating: fastText-0.2.0/website/static/docs/en/html/menu.js  \n",
            "  inflating: fastText-0.2.0/website/static/docs/en/html/menudata.js  \n",
            "  inflating: fastText-0.2.0/website/static/docs/en/html/model_8cc.html  \n",
            "  inflating: fastText-0.2.0/website/static/docs/en/html/model_8h.html  \n",
            "  inflating: fastText-0.2.0/website/static/docs/en/html/model_8h.js  \n",
            "  inflating: fastText-0.2.0/website/static/docs/en/html/model_8h_source.html  \n",
            "  inflating: fastText-0.2.0/website/static/docs/en/html/namespacefasttext.html  \n",
            "  inflating: fastText-0.2.0/website/static/docs/en/html/namespacefasttext.js  \n",
            "  inflating: fastText-0.2.0/website/static/docs/en/html/namespacefasttext_1_1utils.html  \n",
            "  inflating: fastText-0.2.0/website/static/docs/en/html/namespacemembers.html  \n",
            "  inflating: fastText-0.2.0/website/static/docs/en/html/namespacemembers_enum.html  \n",
            "  inflating: fastText-0.2.0/website/static/docs/en/html/namespacemembers_func.html  \n",
            "  inflating: fastText-0.2.0/website/static/docs/en/html/namespacemembers_type.html  \n",
            "  inflating: fastText-0.2.0/website/static/docs/en/html/namespaces.html  \n",
            "  inflating: fastText-0.2.0/website/static/docs/en/html/namespaces.js  \n",
            " extracting: fastText-0.2.0/website/static/docs/en/html/nav_f.png  \n",
            "  inflating: fastText-0.2.0/website/static/docs/en/html/nav_g.png  \n",
            "  inflating: fastText-0.2.0/website/static/docs/en/html/nav_h.png  \n",
            "  inflating: fastText-0.2.0/website/static/docs/en/html/navtree.css  \n",
            "  inflating: fastText-0.2.0/website/static/docs/en/html/navtree.js  \n",
            "  inflating: fastText-0.2.0/website/static/docs/en/html/navtreedata.js  \n",
            "  inflating: fastText-0.2.0/website/static/docs/en/html/navtreeindex0.js  \n",
            "  inflating: fastText-0.2.0/website/static/docs/en/html/navtreeindex1.js  \n",
            "  inflating: fastText-0.2.0/website/static/docs/en/html/open.png  \n",
            "  inflating: fastText-0.2.0/website/static/docs/en/html/productquantizer_8cc.html  \n",
            "  inflating: fastText-0.2.0/website/static/docs/en/html/productquantizer_8cc.js  \n",
            "  inflating: fastText-0.2.0/website/static/docs/en/html/productquantizer_8h.html  \n",
            "  inflating: fastText-0.2.0/website/static/docs/en/html/productquantizer_8h_source.html  \n",
            "  inflating: fastText-0.2.0/website/static/docs/en/html/qmatrix_8cc.html  \n",
            "  inflating: fastText-0.2.0/website/static/docs/en/html/qmatrix_8h.html  \n",
            "  inflating: fastText-0.2.0/website/static/docs/en/html/qmatrix_8h_source.html  \n",
            "  inflating: fastText-0.2.0/website/static/docs/en/html/real_8h.html  \n",
            "  inflating: fastText-0.2.0/website/static/docs/en/html/real_8h.js  \n",
            "  inflating: fastText-0.2.0/website/static/docs/en/html/real_8h_source.html  \n",
            "  inflating: fastText-0.2.0/website/static/docs/en/html/resize.js  \n",
            "   creating: fastText-0.2.0/website/static/docs/en/html/search/\n",
            " extracting: fastText-0.2.0/website/static/docs/en/html/search/.files_7.html.StRRNc  \n",
            " extracting: fastText-0.2.0/website/static/docs/en/html/search/.variables_a.html.1MGQ27  \n",
            "  inflating: fastText-0.2.0/website/static/docs/en/html/search/all_0.html  \n",
            "  inflating: fastText-0.2.0/website/static/docs/en/html/search/all_0.js  \n",
            "  inflating: fastText-0.2.0/website/static/docs/en/html/search/all_1.html  \n",
            "  inflating: fastText-0.2.0/website/static/docs/en/html/search/all_1.js  \n",
            "  inflating: fastText-0.2.0/website/static/docs/en/html/search/all_10.html  \n",
            "  inflating: fastText-0.2.0/website/static/docs/en/html/search/all_10.js  \n",
            "  inflating: fastText-0.2.0/website/static/docs/en/html/search/all_11.html  \n",
            "  inflating: fastText-0.2.0/website/static/docs/en/html/search/all_11.js  \n",
            "  inflating: fastText-0.2.0/website/static/docs/en/html/search/all_12.html  \n",
            "  inflating: fastText-0.2.0/website/static/docs/en/html/search/all_12.js  \n",
            "  inflating: fastText-0.2.0/website/static/docs/en/html/search/all_13.html  \n",
            "  inflating: fastText-0.2.0/website/static/docs/en/html/search/all_13.js  \n",
            "  inflating: fastText-0.2.0/website/static/docs/en/html/search/all_14.html  \n",
            "  inflating: fastText-0.2.0/website/static/docs/en/html/search/all_14.js  \n",
            "  inflating: fastText-0.2.0/website/static/docs/en/html/search/all_15.html  \n",
            "  inflating: fastText-0.2.0/website/static/docs/en/html/search/all_15.js  \n",
            "  inflating: fastText-0.2.0/website/static/docs/en/html/search/all_16.html  \n",
            "  inflating: fastText-0.2.0/website/static/docs/en/html/search/all_16.js  \n",
            "  inflating: fastText-0.2.0/website/static/docs/en/html/search/all_17.html  \n",
            "  inflating: fastText-0.2.0/website/static/docs/en/html/search/all_17.js  \n",
            "  inflating: fastText-0.2.0/website/static/docs/en/html/search/all_2.html  \n",
            "  inflating: fastText-0.2.0/website/static/docs/en/html/search/all_2.js  \n",
            "  inflating: fastText-0.2.0/website/static/docs/en/html/search/all_3.html  \n",
            "  inflating: fastText-0.2.0/website/static/docs/en/html/search/all_3.js  \n",
            "  inflating: fastText-0.2.0/website/static/docs/en/html/search/all_4.html  \n",
            "  inflating: fastText-0.2.0/website/static/docs/en/html/search/all_4.js  \n",
            "  inflating: fastText-0.2.0/website/static/docs/en/html/search/all_5.html  \n",
            "  inflating: fastText-0.2.0/website/static/docs/en/html/search/all_5.js  \n",
            "  inflating: fastText-0.2.0/website/static/docs/en/html/search/all_6.html  \n",
            "  inflating: fastText-0.2.0/website/static/docs/en/html/search/all_6.js  \n",
            "  inflating: fastText-0.2.0/website/static/docs/en/html/search/all_7.html  \n",
            "  inflating: fastText-0.2.0/website/static/docs/en/html/search/all_7.js  \n",
            "  inflating: fastText-0.2.0/website/static/docs/en/html/search/all_8.html  \n",
            "  inflating: fastText-0.2.0/website/static/docs/en/html/search/all_8.js  \n",
            "  inflating: fastText-0.2.0/website/static/docs/en/html/search/all_9.html  \n",
            "  inflating: fastText-0.2.0/website/static/docs/en/html/search/all_9.js  \n",
            "  inflating: fastText-0.2.0/website/static/docs/en/html/search/all_a.html  \n",
            "  inflating: fastText-0.2.0/website/static/docs/en/html/search/all_a.js  \n",
            "  inflating: fastText-0.2.0/website/static/docs/en/html/search/all_b.html  \n",
            "  inflating: fastText-0.2.0/website/static/docs/en/html/search/all_b.js  \n",
            "  inflating: fastText-0.2.0/website/static/docs/en/html/search/all_c.html  \n",
            "  inflating: fastText-0.2.0/website/static/docs/en/html/search/all_c.js  \n",
            "  inflating: fastText-0.2.0/website/static/docs/en/html/search/all_d.html  \n",
            "  inflating: fastText-0.2.0/website/static/docs/en/html/search/all_d.js  \n",
            "  inflating: fastText-0.2.0/website/static/docs/en/html/search/all_e.html  \n",
            "  inflating: fastText-0.2.0/website/static/docs/en/html/search/all_e.js  \n",
            "  inflating: fastText-0.2.0/website/static/docs/en/html/search/all_f.html  \n",
            "  inflating: fastText-0.2.0/website/static/docs/en/html/search/all_f.js  \n",
            "  inflating: fastText-0.2.0/website/static/docs/en/html/search/classes_0.html  \n",
            "  inflating: fastText-0.2.0/website/static/docs/en/html/search/classes_0.js  \n",
            "  inflating: fastText-0.2.0/website/static/docs/en/html/search/classes_1.html  \n",
            "  inflating: fastText-0.2.0/website/static/docs/en/html/search/classes_1.js  \n",
            "  inflating: fastText-0.2.0/website/static/docs/en/html/search/classes_2.html  \n",
            "  inflating: fastText-0.2.0/website/static/docs/en/html/search/classes_2.js  \n",
            "  inflating: fastText-0.2.0/website/static/docs/en/html/search/classes_3.html  \n",
            "  inflating: fastText-0.2.0/website/static/docs/en/html/search/classes_3.js  \n",
            "  inflating: fastText-0.2.0/website/static/docs/en/html/search/classes_4.html  \n",
            "  inflating: fastText-0.2.0/website/static/docs/en/html/search/classes_4.js  \n",
            "  inflating: fastText-0.2.0/website/static/docs/en/html/search/classes_5.html  \n",
            "  inflating: fastText-0.2.0/website/static/docs/en/html/search/classes_5.js  \n",
            "  inflating: fastText-0.2.0/website/static/docs/en/html/search/classes_6.html  \n",
            "  inflating: fastText-0.2.0/website/static/docs/en/html/search/classes_6.js  \n",
            "  inflating: fastText-0.2.0/website/static/docs/en/html/search/classes_7.html  \n",
            "  inflating: fastText-0.2.0/website/static/docs/en/html/search/classes_7.js  \n",
            "  inflating: fastText-0.2.0/website/static/docs/en/html/search/classes_8.html  \n",
            "  inflating: fastText-0.2.0/website/static/docs/en/html/search/classes_8.js  \n",
            " extracting: fastText-0.2.0/website/static/docs/en/html/search/close.png  \n",
            "  inflating: fastText-0.2.0/website/static/docs/en/html/search/defines_0.html  \n",
            "  inflating: fastText-0.2.0/website/static/docs/en/html/search/defines_0.js  \n",
            "  inflating: fastText-0.2.0/website/static/docs/en/html/search/defines_1.html  \n",
            "  inflating: fastText-0.2.0/website/static/docs/en/html/search/defines_1.js  \n",
            "  inflating: fastText-0.2.0/website/static/docs/en/html/search/defines_2.html  \n",
            "  inflating: fastText-0.2.0/website/static/docs/en/html/search/defines_2.js  \n",
            "  inflating: fastText-0.2.0/website/static/docs/en/html/search/defines_3.html  \n",
            "  inflating: fastText-0.2.0/website/static/docs/en/html/search/defines_3.js  \n",
            "  inflating: fastText-0.2.0/website/static/docs/en/html/search/enums_0.html  \n",
            "  inflating: fastText-0.2.0/website/static/docs/en/html/search/enums_0.js  \n",
            "  inflating: fastText-0.2.0/website/static/docs/en/html/search/enums_1.html  \n",
            "  inflating: fastText-0.2.0/website/static/docs/en/html/search/enums_1.js  \n",
            "  inflating: fastText-0.2.0/website/static/docs/en/html/search/enums_2.html  \n",
            "  inflating: fastText-0.2.0/website/static/docs/en/html/search/enums_2.js  \n",
            "  inflating: fastText-0.2.0/website/static/docs/en/html/search/enumvalues_0.html  \n",
            "  inflating: fastText-0.2.0/website/static/docs/en/html/search/enumvalues_0.js  \n",
            "  inflating: fastText-0.2.0/website/static/docs/en/html/search/enumvalues_1.html  \n",
            "  inflating: fastText-0.2.0/website/static/docs/en/html/search/enumvalues_1.js  \n",
            "  inflating: fastText-0.2.0/website/static/docs/en/html/search/enumvalues_2.html  \n",
            "  inflating: fastText-0.2.0/website/static/docs/en/html/search/enumvalues_2.js  \n",
            "  inflating: fastText-0.2.0/website/static/docs/en/html/search/enumvalues_3.html  \n",
            "  inflating: fastText-0.2.0/website/static/docs/en/html/search/enumvalues_3.js  \n",
            "  inflating: fastText-0.2.0/website/static/docs/en/html/search/enumvalues_4.html  \n",
            "  inflating: fastText-0.2.0/website/static/docs/en/html/search/enumvalues_4.js  \n",
            "  inflating: fastText-0.2.0/website/static/docs/en/html/search/enumvalues_5.html  \n",
            "  inflating: fastText-0.2.0/website/static/docs/en/html/search/enumvalues_5.js  \n",
            "  inflating: fastText-0.2.0/website/static/docs/en/html/search/files_0.html  \n",
            "  inflating: fastText-0.2.0/website/static/docs/en/html/search/files_0.js  \n",
            "  inflating: fastText-0.2.0/website/static/docs/en/html/search/files_1.html  \n",
            "  inflating: fastText-0.2.0/website/static/docs/en/html/search/files_1.js  \n",
            "  inflating: fastText-0.2.0/website/static/docs/en/html/search/files_2.html  \n",
            "  inflating: fastText-0.2.0/website/static/docs/en/html/search/files_2.js  \n",
            "  inflating: fastText-0.2.0/website/static/docs/en/html/search/files_3.html  \n",
            "  inflating: fastText-0.2.0/website/static/docs/en/html/search/files_3.js  \n",
            "  inflating: fastText-0.2.0/website/static/docs/en/html/search/files_4.html  \n",
            "  inflating: fastText-0.2.0/website/static/docs/en/html/search/files_4.js  \n",
            "  inflating: fastText-0.2.0/website/static/docs/en/html/search/files_5.html  \n",
            "  inflating: fastText-0.2.0/website/static/docs/en/html/search/files_5.js  \n",
            "  inflating: fastText-0.2.0/website/static/docs/en/html/search/files_6.html  \n",
            "  inflating: fastText-0.2.0/website/static/docs/en/html/search/files_6.js  \n",
            "  inflating: fastText-0.2.0/website/static/docs/en/html/search/files_7.html  \n",
            "  inflating: fastText-0.2.0/website/static/docs/en/html/search/files_7.js  \n",
            "  inflating: fastText-0.2.0/website/static/docs/en/html/search/files_8.html  \n",
            "  inflating: fastText-0.2.0/website/static/docs/en/html/search/files_8.js  \n",
            "  inflating: fastText-0.2.0/website/static/docs/en/html/search/functions_0.html  \n",
            "  inflating: fastText-0.2.0/website/static/docs/en/html/search/functions_0.js  \n",
            "  inflating: fastText-0.2.0/website/static/docs/en/html/search/functions_1.html  \n",
            "  inflating: fastText-0.2.0/website/static/docs/en/html/search/functions_1.js  \n",
            "  inflating: fastText-0.2.0/website/static/docs/en/html/search/functions_10.html  \n",
            "  inflating: fastText-0.2.0/website/static/docs/en/html/search/functions_10.js  \n",
            "  inflating: fastText-0.2.0/website/static/docs/en/html/search/functions_11.html  \n",
            "  inflating: fastText-0.2.0/website/static/docs/en/html/search/functions_11.js  \n",
            "  inflating: fastText-0.2.0/website/static/docs/en/html/search/functions_12.html  \n",
            "  inflating: fastText-0.2.0/website/static/docs/en/html/search/functions_12.js  \n",
            "  inflating: fastText-0.2.0/website/static/docs/en/html/search/functions_13.html  \n",
            "  inflating: fastText-0.2.0/website/static/docs/en/html/search/functions_13.js  \n",
            "  inflating: fastText-0.2.0/website/static/docs/en/html/search/functions_14.html  \n",
            "  inflating: fastText-0.2.0/website/static/docs/en/html/search/functions_14.js  \n",
            "  inflating: fastText-0.2.0/website/static/docs/en/html/search/functions_15.html  \n",
            "  inflating: fastText-0.2.0/website/static/docs/en/html/search/functions_15.js  \n",
            "  inflating: fastText-0.2.0/website/static/docs/en/html/search/functions_16.html  \n",
            "  inflating: fastText-0.2.0/website/static/docs/en/html/search/functions_16.js  \n",
            "  inflating: fastText-0.2.0/website/static/docs/en/html/search/functions_17.html  \n",
            "  inflating: fastText-0.2.0/website/static/docs/en/html/search/functions_17.js  \n",
            "  inflating: fastText-0.2.0/website/static/docs/en/html/search/functions_2.html  \n",
            "  inflating: fastText-0.2.0/website/static/docs/en/html/search/functions_2.js  \n",
            "  inflating: fastText-0.2.0/website/static/docs/en/html/search/functions_3.html  \n",
            "  inflating: fastText-0.2.0/website/static/docs/en/html/search/functions_3.js  \n",
            "  inflating: fastText-0.2.0/website/static/docs/en/html/search/functions_4.html  \n",
            "  inflating: fastText-0.2.0/website/static/docs/en/html/search/functions_4.js  \n",
            "  inflating: fastText-0.2.0/website/static/docs/en/html/search/functions_5.html  \n",
            "  inflating: fastText-0.2.0/website/static/docs/en/html/search/functions_5.js  \n",
            "  inflating: fastText-0.2.0/website/static/docs/en/html/search/functions_6.html  \n",
            "  inflating: fastText-0.2.0/website/static/docs/en/html/search/functions_6.js  \n",
            "  inflating: fastText-0.2.0/website/static/docs/en/html/search/functions_7.html  \n",
            "  inflating: fastText-0.2.0/website/static/docs/en/html/search/functions_7.js  \n",
            "  inflating: fastText-0.2.0/website/static/docs/en/html/search/functions_8.html  \n",
            "  inflating: fastText-0.2.0/website/static/docs/en/html/search/functions_8.js  \n",
            "  inflating: fastText-0.2.0/website/static/docs/en/html/search/functions_9.html  \n",
            "  inflating: fastText-0.2.0/website/static/docs/en/html/search/functions_9.js  \n",
            "  inflating: fastText-0.2.0/website/static/docs/en/html/search/functions_a.html  \n",
            "  inflating: fastText-0.2.0/website/static/docs/en/html/search/functions_a.js  \n",
            "  inflating: fastText-0.2.0/website/static/docs/en/html/search/functions_b.html  \n",
            "  inflating: fastText-0.2.0/website/static/docs/en/html/search/functions_b.js  \n",
            "  inflating: fastText-0.2.0/website/static/docs/en/html/search/functions_c.html  \n",
            "  inflating: fastText-0.2.0/website/static/docs/en/html/search/functions_c.js  \n",
            "  inflating: fastText-0.2.0/website/static/docs/en/html/search/functions_d.html  \n",
            "  inflating: fastText-0.2.0/website/static/docs/en/html/search/functions_d.js  \n",
            "  inflating: fastText-0.2.0/website/static/docs/en/html/search/functions_e.html  \n",
            "  inflating: fastText-0.2.0/website/static/docs/en/html/search/functions_e.js  \n",
            "  inflating: fastText-0.2.0/website/static/docs/en/html/search/functions_f.html  \n",
            "  inflating: fastText-0.2.0/website/static/docs/en/html/search/functions_f.js  \n",
            " extracting: fastText-0.2.0/website/static/docs/en/html/search/mag_sel.png  \n",
            "  inflating: fastText-0.2.0/website/static/docs/en/html/search/namespaces_0.html  \n",
            "  inflating: fastText-0.2.0/website/static/docs/en/html/search/namespaces_0.js  \n",
            "  inflating: fastText-0.2.0/website/static/docs/en/html/search/nomatches.html  \n",
            "  inflating: fastText-0.2.0/website/static/docs/en/html/search/search.css  \n",
            "  inflating: fastText-0.2.0/website/static/docs/en/html/search/search.js  \n",
            " extracting: fastText-0.2.0/website/static/docs/en/html/search/search_l.png  \n",
            "  inflating: fastText-0.2.0/website/static/docs/en/html/search/search_m.png  \n",
            " extracting: fastText-0.2.0/website/static/docs/en/html/search/search_r.png  \n",
            "  inflating: fastText-0.2.0/website/static/docs/en/html/search/searchdata.js  \n",
            "  inflating: fastText-0.2.0/website/static/docs/en/html/search/typedefs_0.html  \n",
            "  inflating: fastText-0.2.0/website/static/docs/en/html/search/typedefs_0.js  \n",
            "  inflating: fastText-0.2.0/website/static/docs/en/html/search/typedefs_1.html  \n",
            "  inflating: fastText-0.2.0/website/static/docs/en/html/search/typedefs_1.js  \n",
            "  inflating: fastText-0.2.0/website/static/docs/en/html/search/variables_0.html  \n",
            "  inflating: fastText-0.2.0/website/static/docs/en/html/search/variables_0.js  \n",
            "  inflating: fastText-0.2.0/website/static/docs/en/html/search/variables_1.html  \n",
            "  inflating: fastText-0.2.0/website/static/docs/en/html/search/variables_1.js  \n",
            "  inflating: fastText-0.2.0/website/static/docs/en/html/search/variables_10.html  \n",
            "  inflating: fastText-0.2.0/website/static/docs/en/html/search/variables_10.js  \n",
            "  inflating: fastText-0.2.0/website/static/docs/en/html/search/variables_11.html  \n",
            "  inflating: fastText-0.2.0/website/static/docs/en/html/search/variables_11.js  \n",
            "  inflating: fastText-0.2.0/website/static/docs/en/html/search/variables_12.html  \n",
            "  inflating: fastText-0.2.0/website/static/docs/en/html/search/variables_12.js  \n",
            "  inflating: fastText-0.2.0/website/static/docs/en/html/search/variables_13.html  \n",
            "  inflating: fastText-0.2.0/website/static/docs/en/html/search/variables_13.js  \n",
            "  inflating: fastText-0.2.0/website/static/docs/en/html/search/variables_2.html  \n",
            "  inflating: fastText-0.2.0/website/static/docs/en/html/search/variables_2.js  \n",
            "  inflating: fastText-0.2.0/website/static/docs/en/html/search/variables_3.html  \n",
            "  inflating: fastText-0.2.0/website/static/docs/en/html/search/variables_3.js  \n",
            "  inflating: fastText-0.2.0/website/static/docs/en/html/search/variables_4.html  \n",
            "  inflating: fastText-0.2.0/website/static/docs/en/html/search/variables_4.js  \n",
            "  inflating: fastText-0.2.0/website/static/docs/en/html/search/variables_5.html  \n",
            "  inflating: fastText-0.2.0/website/static/docs/en/html/search/variables_5.js  \n",
            "  inflating: fastText-0.2.0/website/static/docs/en/html/search/variables_6.html  \n",
            "  inflating: fastText-0.2.0/website/static/docs/en/html/search/variables_6.js  \n",
            "  inflating: fastText-0.2.0/website/static/docs/en/html/search/variables_7.html  \n",
            "  inflating: fastText-0.2.0/website/static/docs/en/html/search/variables_7.js  \n",
            "  inflating: fastText-0.2.0/website/static/docs/en/html/search/variables_8.html  \n",
            "  inflating: fastText-0.2.0/website/static/docs/en/html/search/variables_8.js  \n",
            "  inflating: fastText-0.2.0/website/static/docs/en/html/search/variables_9.html  \n",
            "  inflating: fastText-0.2.0/website/static/docs/en/html/search/variables_9.js  \n",
            "  inflating: fastText-0.2.0/website/static/docs/en/html/search/variables_a.html  \n",
            "  inflating: fastText-0.2.0/website/static/docs/en/html/search/variables_a.js  \n",
            "  inflating: fastText-0.2.0/website/static/docs/en/html/search/variables_b.html  \n",
            "  inflating: fastText-0.2.0/website/static/docs/en/html/search/variables_b.js  \n",
            "  inflating: fastText-0.2.0/website/static/docs/en/html/search/variables_c.html  \n",
            "  inflating: fastText-0.2.0/website/static/docs/en/html/search/variables_c.js  \n",
            "  inflating: fastText-0.2.0/website/static/docs/en/html/search/variables_d.html  \n",
            "  inflating: fastText-0.2.0/website/static/docs/en/html/search/variables_d.js  \n",
            "  inflating: fastText-0.2.0/website/static/docs/en/html/search/variables_e.html  \n",
            "  inflating: fastText-0.2.0/website/static/docs/en/html/search/variables_e.js  \n",
            "  inflating: fastText-0.2.0/website/static/docs/en/html/search/variables_f.html  \n",
            "  inflating: fastText-0.2.0/website/static/docs/en/html/search/variables_f.js  \n",
            "  inflating: fastText-0.2.0/website/static/docs/en/html/splitbar.png  \n",
            "  inflating: fastText-0.2.0/website/static/docs/en/html/structfasttext_1_1Node-members.html  \n",
            "  inflating: fastText-0.2.0/website/static/docs/en/html/structfasttext_1_1Node.html  \n",
            "  inflating: fastText-0.2.0/website/static/docs/en/html/structfasttext_1_1Node.js  \n",
            "  inflating: fastText-0.2.0/website/static/docs/en/html/structfasttext_1_1entry-members.html  \n",
            "  inflating: fastText-0.2.0/website/static/docs/en/html/structfasttext_1_1entry.html  \n",
            "  inflating: fastText-0.2.0/website/static/docs/en/html/structfasttext_1_1entry.js  \n",
            " extracting: fastText-0.2.0/website/static/docs/en/html/sync_off.png  \n",
            " extracting: fastText-0.2.0/website/static/docs/en/html/sync_on.png  \n",
            " extracting: fastText-0.2.0/website/static/docs/en/html/tab_a.png  \n",
            " extracting: fastText-0.2.0/website/static/docs/en/html/tab_b.png  \n",
            " extracting: fastText-0.2.0/website/static/docs/en/html/tab_h.png  \n",
            " extracting: fastText-0.2.0/website/static/docs/en/html/tab_s.png  \n",
            "  inflating: fastText-0.2.0/website/static/docs/en/html/tabs.css  \n",
            "  inflating: fastText-0.2.0/website/static/docs/en/html/utils_8cc.html  \n",
            "  inflating: fastText-0.2.0/website/static/docs/en/html/utils_8cc.js  \n",
            "  inflating: fastText-0.2.0/website/static/docs/en/html/utils_8h.html  \n",
            "  inflating: fastText-0.2.0/website/static/docs/en/html/utils_8h.js  \n",
            "  inflating: fastText-0.2.0/website/static/docs/en/html/utils_8h_source.html  \n",
            "  inflating: fastText-0.2.0/website/static/docs/en/html/vector_8cc.html  \n",
            "  inflating: fastText-0.2.0/website/static/docs/en/html/vector_8cc.js  \n",
            "  inflating: fastText-0.2.0/website/static/docs/en/html/vector_8h.html  \n",
            "  inflating: fastText-0.2.0/website/static/docs/en/html/vector_8h.js  \n",
            "  inflating: fastText-0.2.0/website/static/docs/en/html/vector_8h_source.html  \n",
            "  inflating: fastText-0.2.0/website/static/fasttext.css  \n",
            "   creating: fastText-0.2.0/website/static/img/\n",
            "   creating: fastText-0.2.0/website/static/img/authors/\n",
            "  inflating: fastText-0.2.0/website/static/img/authors/armand_joulin.jpg  \n",
            "  inflating: fastText-0.2.0/website/static/img/authors/christian_puhrsch.png  \n",
            "  inflating: fastText-0.2.0/website/static/img/authors/edouard_grave.jpeg  \n",
            "  inflating: fastText-0.2.0/website/static/img/authors/piotr_bojanowski.jpg  \n",
            "  inflating: fastText-0.2.0/website/static/img/authors/tomas_mikolov.jpg  \n",
            "   creating: fastText-0.2.0/website/static/img/blog/\n",
            "  inflating: fastText-0.2.0/website/static/img/blog/2016-08-18-blog-post-img1.png  \n",
            "  inflating: fastText-0.2.0/website/static/img/blog/2016-08-18-blog-post-img2.png  \n",
            "  inflating: fastText-0.2.0/website/static/img/blog/2017-05-02-blog-post-img1.jpg  \n",
            "  inflating: fastText-0.2.0/website/static/img/blog/2017-05-02-blog-post-img2.jpg  \n",
            "  inflating: fastText-0.2.0/website/static/img/blog/2017-10-02-blog-post-img1.png  \n",
            "  inflating: fastText-0.2.0/website/static/img/cbo_vs_skipgram.png  \n",
            "  inflating: fastText-0.2.0/website/static/img/fasttext-icon-api.png  \n",
            "  inflating: fastText-0.2.0/website/static/img/fasttext-icon-bg-web.png  \n",
            "  inflating: fastText-0.2.0/website/static/img/fasttext-icon-color-square.png  \n",
            "  inflating: fastText-0.2.0/website/static/img/fasttext-icon-color-web.png  \n",
            "  inflating: fastText-0.2.0/website/static/img/fasttext-icon-faq.png  \n",
            "  inflating: fastText-0.2.0/website/static/img/fasttext-icon-tutorial.png  \n",
            "  inflating: fastText-0.2.0/website/static/img/fasttext-icon-white-web.png  \n",
            "  inflating: fastText-0.2.0/website/static/img/fasttext-logo-color-web.png  \n",
            "  inflating: fastText-0.2.0/website/static/img/fasttext-logo-white-web.png  \n",
            "  inflating: fastText-0.2.0/website/static/img/logo-color.png  \n",
            "  inflating: fastText-0.2.0/website/static/img/model-black.png  \n",
            "  inflating: fastText-0.2.0/website/static/img/model-blue.png  \n",
            "  inflating: fastText-0.2.0/website/static/img/model-red.png  \n",
            "  inflating: fastText-0.2.0/website/static/img/ogimage.png  \n",
            "  inflating: fastText-0.2.0/website/static/img/oss_logo.png  \n",
            "  inflating: fastText-0.2.0/wikifil.pl  \n",
            "  inflating: fastText-0.2.0/word-vector-example.sh  \n"
          ],
          "name": "stdout"
        }
      ]
    },
    {
      "cell_type": "code",
      "metadata": {
        "id": "k8RsevSIdQis",
        "outputId": "8941a075-8072-40eb-82dd-42cc067b2e49",
        "colab": {
          "base_uri": "https://localhost:8080/"
        }
      },
      "source": [
        "pip install fastText-0.2.0/"
      ],
      "execution_count": 2,
      "outputs": [
        {
          "output_type": "stream",
          "text": [
            "Processing ./fastText-0.2.0\n",
            "Requirement already satisfied: pybind11>=2.2 in /usr/local/lib/python3.6/dist-packages (from fasttext==0.8.22) (2.6.0)\n",
            "Requirement already satisfied: setuptools>=0.7.0 in /usr/local/lib/python3.6/dist-packages (from fasttext==0.8.22) (50.3.2)\n",
            "Requirement already satisfied: numpy in /usr/local/lib/python3.6/dist-packages (from fasttext==0.8.22) (1.18.5)\n",
            "Building wheels for collected packages: fasttext\n",
            "  Building wheel for fasttext (setup.py) ... \u001b[?25l\u001b[?25hdone\n",
            "  Created wheel for fasttext: filename=fasttext-0.8.22-cp36-cp36m-linux_x86_64.whl size=2325162 sha256=04f55139ff656e0ae7d2eb08ec86aa57d57ef307c88d2e4a34a797261c12d62a\n",
            "  Stored in directory: /root/.cache/pip/wheels/11/5c/45/07e9483cff6a5fe6a59f48b47c7b1910978a79aed8606f8aa5\n",
            "Successfully built fasttext\n",
            "Installing collected packages: fasttext\n",
            "Successfully installed fasttext-0.8.22\n"
          ],
          "name": "stdout"
        }
      ]
    },
    {
      "cell_type": "markdown",
      "metadata": {
        "id": "UEfTVKF7aQwK"
      },
      "source": [
        "**Getting original code working on original data**"
      ]
    },
    {
      "cell_type": "code",
      "metadata": {
        "id": "m-0D3Q33aZoW",
        "outputId": "2f5d788c-ca75-41d4-9652-dfde73c47238",
        "colab": {
          "base_uri": "https://localhost:8080/"
        }
      },
      "source": [
        "!wget https://dl.fbaipublicfiles.com/fasttext/data/cooking.stackexchange.tar.gz && tar xvzf cooking.stackexchange.tar.gz"
      ],
      "execution_count": 3,
      "outputs": [
        {
          "output_type": "stream",
          "text": [
            "--2020-11-06 02:25:28--  https://dl.fbaipublicfiles.com/fasttext/data/cooking.stackexchange.tar.gz\n",
            "Resolving dl.fbaipublicfiles.com (dl.fbaipublicfiles.com)... 104.22.75.142, 172.67.9.4, 104.22.74.142, ...\n",
            "Connecting to dl.fbaipublicfiles.com (dl.fbaipublicfiles.com)|104.22.75.142|:443... connected.\n",
            "HTTP request sent, awaiting response... 200 OK\n",
            "Length: 457609 (447K) [application/x-tar]\n",
            "Saving to: ‘cooking.stackexchange.tar.gz’\n",
            "\n",
            "cooking.stackexchan 100%[===================>] 446.88K  --.-KB/s    in 0.1s    \n",
            "\n",
            "2020-11-06 02:25:28 (3.08 MB/s) - ‘cooking.stackexchange.tar.gz’ saved [457609/457609]\n",
            "\n",
            "cooking.stackexchange.id\n",
            "cooking.stackexchange.txt\n",
            "readme.txt\n"
          ],
          "name": "stdout"
        }
      ]
    },
    {
      "cell_type": "code",
      "metadata": {
        "id": "r_X72RNoa7In",
        "outputId": "a3d5d3d5-8af2-42e1-84a4-b910a86db46f",
        "colab": {
          "base_uri": "https://localhost:8080/"
        }
      },
      "source": [
        "!head cooking.stackexchange.txt"
      ],
      "execution_count": 4,
      "outputs": [
        {
          "output_type": "stream",
          "text": [
            "__label__sauce __label__cheese How much does potato starch affect a cheese sauce recipe?\n",
            "__label__food-safety __label__acidity Dangerous pathogens capable of growing in acidic environments\n",
            "__label__cast-iron __label__stove How do I cover up the white spots on my cast iron stove?\n",
            "__label__restaurant Michelin Three Star Restaurant; but if the chef is not there\n",
            "__label__knife-skills __label__dicing Without knife skills, how can I quickly and accurately dice vegetables?\n",
            "__label__storage-method __label__equipment __label__bread What's the purpose of a bread box?\n",
            "__label__baking __label__food-safety __label__substitutions __label__peanuts how to seperate peanut oil from roasted peanuts at home?\n",
            "__label__chocolate American equivalent for British chocolate terms\n",
            "__label__baking __label__oven __label__convection Fan bake vs bake\n",
            "__label__sauce __label__storage-lifetime __label__acidity __label__mayonnaise Regulation and balancing of readymade packed mayonnaise and other sauces\n"
          ],
          "name": "stdout"
        }
      ]
    },
    {
      "cell_type": "markdown",
      "metadata": {
        "id": "_UqOsTXAbGUA"
      },
      "source": [
        "Splitting the data"
      ]
    },
    {
      "cell_type": "code",
      "metadata": {
        "id": "PTWXAPO6bJ6Q"
      },
      "source": [
        "!head -n 12404 cooking.stackexchange.txt > cooking.train\n",
        "!tail -n 3000 cooking.stackexchange.txt > cooking.valid"
      ],
      "execution_count": 5,
      "outputs": []
    },
    {
      "cell_type": "markdown",
      "metadata": {
        "id": "uhVPYjOdbSY1"
      },
      "source": [
        "First Classifier on original data"
      ]
    },
    {
      "cell_type": "code",
      "metadata": {
        "id": "9jRQpgtwbW9L"
      },
      "source": [
        "import fastText\n",
        "modelo = fastText.train_supervised(input=\"cooking.train\")"
      ],
      "execution_count": 6,
      "outputs": []
    },
    {
      "cell_type": "code",
      "metadata": {
        "id": "TCdzDMwTdn_X",
        "outputId": "f00e0867-11fe-4166-87e1-26dd5b95ca69",
        "colab": {
          "base_uri": "https://localhost:8080/"
        }
      },
      "source": [
        "modelo.test(\"cooking.valid\")"
      ],
      "execution_count": 7,
      "outputs": [
        {
          "output_type": "execute_result",
          "data": {
            "text/plain": [
              "(3000, 0.13533333333333333, 0.05852674066599395)"
            ]
          },
          "metadata": {
            "tags": []
          },
          "execution_count": 7
        }
      ]
    },
    {
      "cell_type": "markdown",
      "metadata": {
        "id": "LvPbVZK3dx0y"
      },
      "source": [
        "**Better Model**"
      ]
    },
    {
      "cell_type": "code",
      "metadata": {
        "id": "hHdiBWaTd2bH",
        "outputId": "dbfcf07f-f128-4b6e-fc31-f3e22d5671c6",
        "colab": {
          "base_uri": "https://localhost:8080/"
        }
      },
      "source": [
        "modelo1 = fastText.train_supervised(input=\"cooking.train\", lr=1.0, epoch=25)\n",
        "modelo1.test(\"cooking.valid\")"
      ],
      "execution_count": 8,
      "outputs": [
        {
          "output_type": "execute_result",
          "data": {
            "text/plain": [
              "(3000, 0.5573333333333333, 0.2410263802796598)"
            ]
          },
          "metadata": {
            "tags": []
          },
          "execution_count": 8
        }
      ]
    },
    {
      "cell_type": "markdown",
      "metadata": {
        "id": "xl_6DL7KeboW"
      },
      "source": [
        "**Bigrams**"
      ]
    },
    {
      "cell_type": "code",
      "metadata": {
        "id": "SIIsdxMeedFO",
        "outputId": "0a67ddf0-b51a-4168-dee6-372142be8343",
        "colab": {
          "base_uri": "https://localhost:8080/"
        }
      },
      "source": [
        "modelo2 = fastText.train_supervised(input=\"cooking.train\", lr=1.0, epoch=25, wordNgrams=2)\n",
        "modelo2.test(\"cooking.valid\")"
      ],
      "execution_count": 9,
      "outputs": [
        {
          "output_type": "execute_result",
          "data": {
            "text/plain": [
              "(3000, 0.564, 0.24390947095286147)"
            ]
          },
          "metadata": {
            "tags": []
          },
          "execution_count": 9
        }
      ]
    },
    {
      "cell_type": "markdown",
      "metadata": {
        "id": "v98vmoC2mxMs"
      },
      "source": [
        "**Getting and preparing the transformed original data**"
      ]
    },
    {
      "cell_type": "markdown",
      "metadata": {
        "id": "iLpESGz6m3mt"
      },
      "source": [
        "As mentioned in the introduction, we need labeled data to train our supervised classifier. Here since we are doing the sentiment analysis. we are replacing the original data of stack exchange questions with that of airline. The data has been prepared in another python file and made it readble by **fastText** . We will upload that file for training purpose."
      ]
    },
    {
      "cell_type": "code",
      "metadata": {
        "id": "1aighJbHndo1",
        "outputId": "4c06b565-8093-4a0f-b82b-26955bfe94d5",
        "colab": {
          "resources": {
            "http://localhost:8080/nbextensions/google.colab/files.js": {
              "data": "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",
              "ok": true,
              "headers": [
                [
                  "content-type",
                  "application/javascript"
                ]
              ],
              "status": 200,
              "status_text": ""
            }
          },
          "base_uri": "https://localhost:8080/",
          "height": 106
        }
      },
      "source": [
        "from google.colab import files\n",
        "upload = files.upload()"
      ],
      "execution_count": 10,
      "outputs": [
        {
          "output_type": "display_data",
          "data": {
            "text/html": [
              "\n",
              "     <input type=\"file\" id=\"files-f60f8e83-b758-41ad-9e8a-05f528f907c9\" name=\"files[]\" multiple disabled\n",
              "        style=\"border:none\" />\n",
              "     <output id=\"result-f60f8e83-b758-41ad-9e8a-05f528f907c9\">\n",
              "      Upload widget is only available when the cell has been executed in the\n",
              "      current browser session. Please rerun this cell to enable.\n",
              "      </output>\n",
              "      <script src=\"/nbextensions/google.colab/files.js\"></script> "
            ],
            "text/plain": [
              "<IPython.core.display.HTML object>"
            ]
          },
          "metadata": {
            "tags": []
          }
        },
        {
          "output_type": "stream",
          "text": [
            "Saving airline_training.txt to airline_training.txt\n",
            "Saving Polls1.txt to Polls1.txt\n"
          ],
          "name": "stdout"
        }
      ]
    },
    {
      "cell_type": "code",
      "metadata": {
        "id": "J4CGzXlqkwTM"
      },
      "source": [
        "!head -n 14440 airline_training.txt > airline.train\n",
        "!tail -n 200 airline_training.txt > airline.valid"
      ],
      "execution_count": 11,
      "outputs": []
    },
    {
      "cell_type": "markdown",
      "metadata": {
        "id": "FNzC0nwCobSv"
      },
      "source": [
        "**Our first classifier**"
      ]
    },
    {
      "cell_type": "code",
      "metadata": {
        "id": "JvWIrZWoohL4"
      },
      "source": [
        "import fastText\n",
        "model = fastText.train_supervised(input=\"airline.train\")"
      ],
      "execution_count": 12,
      "outputs": []
    },
    {
      "cell_type": "markdown",
      "metadata": {
        "id": "hZKnMFrAo2y2"
      },
      "source": [
        "We can now use the model variable to access information on the trained model."
      ]
    },
    {
      "cell_type": "markdown",
      "metadata": {
        "id": "xhejpdNapoWI"
      },
      "source": [
        "Now, we can test our classifier, by testing it on the data created on US Polls and see what results we get."
      ]
    },
    {
      "cell_type": "code",
      "metadata": {
        "id": "gLJH-PQpqGKw",
        "outputId": "a61146af-810a-436b-cd0c-09ffa288d6e0",
        "colab": {
          "base_uri": "https://localhost:8080/"
        }
      },
      "source": [
        " model.test(\"Polls1.txt\")"
      ],
      "execution_count": 13,
      "outputs": [
        {
          "output_type": "execute_result",
          "data": {
            "text/plain": [
              "(200, 0.565, 0.565)"
            ]
          },
          "metadata": {
            "tags": []
          },
          "execution_count": 13
        }
      ]
    },
    {
      "cell_type": "markdown",
      "metadata": {
        "id": "inn-7Jbwlmde"
      },
      "source": [
        "*Testing on original data subset*"
      ]
    },
    {
      "cell_type": "code",
      "metadata": {
        "id": "5Zo-qXYPlrhu",
        "outputId": "9385f973-2609-492a-bb45-31b75c896c2f",
        "colab": {
          "base_uri": "https://localhost:8080/"
        }
      },
      "source": [
        "model.test(\"airline.valid\")"
      ],
      "execution_count": 14,
      "outputs": [
        {
          "output_type": "execute_result",
          "data": {
            "text/plain": [
              "(200, 0.845, 0.845)"
            ]
          },
          "metadata": {
            "tags": []
          },
          "execution_count": 14
        }
      ]
    },
    {
      "cell_type": "markdown",
      "metadata": {
        "id": "J9bPj7InrxOn"
      },
      "source": [
        "**Making the model better**"
      ]
    },
    {
      "cell_type": "markdown",
      "metadata": {
        "id": "DyG96Cjmr59C"
      },
      "source": [
        "*more epochs and larger learning rate*"
      ]
    },
    {
      "cell_type": "markdown",
      "metadata": {
        "id": "-xUAFtKBr8lR"
      },
      "source": [
        "By default, fastText sees each training example only five times during training, we can increase the number of times each examples is seen (also known as the number of epochs), by using the -epoch option:"
      ]
    },
    {
      "cell_type": "code",
      "metadata": {
        "id": "rOyltWzksOFo",
        "outputId": "abb25c07-5045-4f78-d397-265855e9ce7c",
        "colab": {
          "base_uri": "https://localhost:8080/"
        }
      },
      "source": [
        "model1 = fastText.train_supervised(input=\"airline.train\", lr=1.0, epoch=25)\n",
        "model1.test(\"Polls1.txt\")"
      ],
      "execution_count": 15,
      "outputs": [
        {
          "output_type": "execute_result",
          "data": {
            "text/plain": [
              "(200, 0.57, 0.57)"
            ]
          },
          "metadata": {
            "tags": []
          },
          "execution_count": 15
        }
      ]
    },
    {
      "cell_type": "markdown",
      "metadata": {
        "id": "H-Xm0Qr-spA6"
      },
      "source": [
        "We see that there is a slight decrease in the precision and recall value of the reaults. Which makes us try something even better."
      ]
    },
    {
      "cell_type": "markdown",
      "metadata": {
        "id": "2gmPcqMqmGvL"
      },
      "source": [
        "*Testing on original data subset*"
      ]
    },
    {
      "cell_type": "code",
      "metadata": {
        "id": "dvRvGYTAmIVV",
        "outputId": "56ebd4c9-7ad6-4e74-ec0d-6aefcf2fe909",
        "colab": {
          "base_uri": "https://localhost:8080/"
        }
      },
      "source": [
        "model1.test(\"airline.valid\")"
      ],
      "execution_count": 16,
      "outputs": [
        {
          "output_type": "execute_result",
          "data": {
            "text/plain": [
              "(200, 0.81, 0.81)"
            ]
          },
          "metadata": {
            "tags": []
          },
          "execution_count": 16
        }
      ]
    },
    {
      "cell_type": "markdown",
      "metadata": {
        "id": "8hjdaNQfl8JQ"
      },
      "source": [
        ""
      ]
    },
    {
      "cell_type": "markdown",
      "metadata": {
        "id": "nkXNaCWQu8hl"
      },
      "source": [
        "**word n-grams : Bigrams**"
      ]
    },
    {
      "cell_type": "markdown",
      "metadata": {
        "id": "LZ0fp4AEvEFB"
      },
      "source": [
        "A 'unigram' refers to a single undividing unit used as an input to a model. For instance a unigram can be a word or a letter depending in any model. In fastText, we work at the word level and thus unigrams are words.\n",
        "\n",
        "Similarly we denote by '**bigram**' the concatenation of 2 consecutive words. So we will see if our accuracy improves by this or not."
      ]
    },
    {
      "cell_type": "code",
      "metadata": {
        "id": "_EAgIM_rvgi9",
        "outputId": "f3d16b82-68d7-45a7-a5ee-523a9680b4c7",
        "colab": {
          "base_uri": "https://localhost:8080/"
        }
      },
      "source": [
        "model2 = fastText.train_supervised(input=\"airline.train\", lr=1.0, epoch=25, wordNgrams=2)\n",
        "model2.test(\"Polls1.txt\")"
      ],
      "execution_count": 17,
      "outputs": [
        {
          "output_type": "execute_result",
          "data": {
            "text/plain": [
              "(200, 0.595, 0.595)"
            ]
          },
          "metadata": {
            "tags": []
          },
          "execution_count": 17
        }
      ]
    },
    {
      "cell_type": "markdown",
      "metadata": {
        "id": "nYQ8dTYJmSXi"
      },
      "source": [
        "*Testing on original data subset*"
      ]
    },
    {
      "cell_type": "code",
      "metadata": {
        "id": "49wgBl_jmT_5",
        "outputId": "542462a1-bfbe-4e5d-fde0-12ce5eb459ea",
        "colab": {
          "base_uri": "https://localhost:8080/"
        }
      },
      "source": [
        "model2.test(\"airline.valid\")"
      ],
      "execution_count": 18,
      "outputs": [
        {
          "output_type": "execute_result",
          "data": {
            "text/plain": [
              "(200, 0.835, 0.835)"
            ]
          },
          "metadata": {
            "tags": []
          },
          "execution_count": 18
        }
      ]
    },
    {
      "cell_type": "markdown",
      "metadata": {
        "id": "bq9g1rGFmc8h"
      },
      "source": [
        "we see that in both the cases with a few steps, we are able to significantly improve our precision score. In our original dataset precision score is increased moving up from a simple classifier to applying bigrams. Same is the case with New dataset. Although there is some difference in the precision values, but it is possibly due to sample size or human annotations. Hence, we can say that we have successfully replicated the results."
      ]
    },
    {
      "cell_type": "code",
      "metadata": {
        "id": "dLZSSgTVrPxE",
        "outputId": "005ffbcc-c8d6-480e-e111-d64d6947f029",
        "colab": {
          "base_uri": "https://localhost:8080/",
          "height": 142
        }
      },
      "source": [
        "import pandas as pd\n",
        "data = {'Model': ['First Classifier','Classifier with more epchos','Bigrams',],\n",
        "        'Original Data': [0.845,0.810,.835],\n",
        "        'New Data':[0.565,0.570,0.595]\n",
        "        }\n",
        "df = pd.DataFrame(data, columns = ['Model', 'Original Data','New Data'])\n",
        "df"
      ],
      "execution_count": 21,
      "outputs": [
        {
          "output_type": "execute_result",
          "data": {
            "text/html": [
              "<div>\n",
              "<style scoped>\n",
              "    .dataframe tbody tr th:only-of-type {\n",
              "        vertical-align: middle;\n",
              "    }\n",
              "\n",
              "    .dataframe tbody tr th {\n",
              "        vertical-align: top;\n",
              "    }\n",
              "\n",
              "    .dataframe thead th {\n",
              "        text-align: right;\n",
              "    }\n",
              "</style>\n",
              "<table border=\"1\" class=\"dataframe\">\n",
              "  <thead>\n",
              "    <tr style=\"text-align: right;\">\n",
              "      <th></th>\n",
              "      <th>Model</th>\n",
              "      <th>Original Data</th>\n",
              "      <th>New Data</th>\n",
              "    </tr>\n",
              "  </thead>\n",
              "  <tbody>\n",
              "    <tr>\n",
              "      <th>0</th>\n",
              "      <td>First Classifier</td>\n",
              "      <td>0.845</td>\n",
              "      <td>0.565</td>\n",
              "    </tr>\n",
              "    <tr>\n",
              "      <th>1</th>\n",
              "      <td>Classifier with more epchos</td>\n",
              "      <td>0.810</td>\n",
              "      <td>0.570</td>\n",
              "    </tr>\n",
              "    <tr>\n",
              "      <th>2</th>\n",
              "      <td>Bigrams</td>\n",
              "      <td>0.835</td>\n",
              "      <td>0.595</td>\n",
              "    </tr>\n",
              "  </tbody>\n",
              "</table>\n",
              "</div>"
            ],
            "text/plain": [
              "                         Model  Original Data  New Data\n",
              "0             First Classifier          0.845     0.565\n",
              "1  Classifier with more epchos          0.810     0.570\n",
              "2                      Bigrams          0.835     0.595"
            ]
          },
          "metadata": {
            "tags": []
          },
          "execution_count": 21
        }
      ]
    },
    {
      "cell_type": "code",
      "metadata": {
        "id": "-VZJc7FvuGUw",
        "outputId": "edbf9737-9968-40a9-f888-3e618dea5cf9",
        "colab": {
          "base_uri": "https://localhost:8080/",
          "height": 320
        }
      },
      "source": [
        "import matplotlib.pyplot as plt\n",
        "pos = list(range(len(df['Original Data'])))\n",
        "width = 0.25\n",
        "fig, ax = plt.subplots(figsize=(10,5))\n",
        "plt.bar(pos, df['Original Data'], width, alpha=0.5, color='black')\n",
        "plt.bar([p + width for p in pos], df['New Data'], width, alpha=0.5, color='Blue')\n",
        "ax.set_ylabel('Precision value')\n",
        "ax.set_xticks([p + 1.5 * width for p in pos])\n",
        "ax.set_xticklabels(df['Model'])\n",
        "plt.xlim(min(pos)-width, max(pos)+width*4)\n",
        "plt.ylim([0, max(df['Original Data'] + df['New Data'])])\n",
        "plt.legend(['Original Data', 'New Data'], loc='upper left')\n",
        "plt.grid()\n",
        "plt.show()"
      ],
      "execution_count": 22,
      "outputs": [
        {
          "output_type": "display_data",
          "data": {
            "image/png": "[encoded data removed]",
            "text/plain": [
              "<Figure size 720x360 with 1 Axes>"
            ]
          },
          "metadata": {
            "tags": [],
            "needs_background": "light"
          }
        }
      ]
    }
  ]
}